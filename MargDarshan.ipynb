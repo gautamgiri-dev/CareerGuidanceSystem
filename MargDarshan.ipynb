{
  "nbformat": 4,
  "nbformat_minor": 0,
  "metadata": {
    "colab": {
      "name": "MargDarshan.ipynb",
      "provenance": []
    },
    "kernelspec": {
      "name": "python3",
      "display_name": "Python 3"
    },
    "language_info": {
      "name": "python"
    },
    "accelerator": "GPU"
  },
  "cells": [
    {
      "cell_type": "markdown",
      "source": [
        "#IMPORT LIBRARIES"
      ],
      "metadata": {
        "id": "ug6B6ik2fH5O"
      }
    },
    {
      "cell_type": "code",
      "source": [
        "import requests\n",
        "import pandas as pd\n",
        "import numpy as np\n",
        "from sklearn import decomposition\n",
        "import matplotlib.pyplot as plt\n",
        "import os"
      ],
      "metadata": {
        "id": "MA-pfA1HfHjD"
      },
      "execution_count": 1,
      "outputs": []
    },
    {
      "cell_type": "markdown",
      "source": [
        "#DATA COLLECTION"
      ],
      "metadata": {
        "id": "kljGRdp0fDZF"
      }
    },
    {
      "cell_type": "code",
      "source": [
        "DATASET_URI = \"https://raw.githubusercontent.com/KLGLUG/student-career-area-prediction-using-machine-learning/master/Project%20Code/roo_data.csv\"\n",
        "\n",
        "open(\"./dataset.csv\", \"wb\").write(requests.get(DATASET_URI).content)\n",
        "print(\"Dataset downloaded.\")"
      ],
      "metadata": {
        "colab": {
          "base_uri": "https://localhost:8080/"
        },
        "id": "3RvhnwYSfYTU",
        "outputId": "e1376e4e-6a2a-4311-eb78-aa54be5eb75d"
      },
      "execution_count": 2,
      "outputs": [
        {
          "output_type": "stream",
          "name": "stdout",
          "text": [
            "Dataset downloaded.\n"
          ]
        }
      ]
    },
    {
      "cell_type": "markdown",
      "source": [
        "#DATA PREPROCESSING"
      ],
      "metadata": {
        "id": "yFxUHJZwfz05"
      }
    },
    {
      "cell_type": "code",
      "source": [
        "dataset = pd.read_csv(\"./dataset.csv\")\n",
        "dataset.head()"
      ],
      "metadata": {
        "colab": {
          "base_uri": "https://localhost:8080/",
          "height": 490
        },
        "id": "TlswB7o7fzSp",
        "outputId": "a5d4f261-c54d-44d7-8327-b66c75fcc91a"
      },
      "execution_count": 3,
      "outputs": [
        {
          "output_type": "execute_result",
          "data": {
            "text/plain": [
              "   Acedamic percentage in Operating Systems  percentage in Algorithms  \\\n",
              "0                                        69                        63   \n",
              "1                                        78                        62   \n",
              "2                                        71                        86   \n",
              "3                                        76                        87   \n",
              "4                                        92                        62   \n",
              "\n",
              "   Percentage in Programming Concepts  Percentage in Software Engineering  \\\n",
              "0                                  78                                  87   \n",
              "1                                  73                                  60   \n",
              "2                                  91                                  87   \n",
              "3                                  60                                  84   \n",
              "4                                  90                                  67   \n",
              "\n",
              "   Percentage in Computer Networks  Percentage in Electronics Subjects  \\\n",
              "0                               94                                  94   \n",
              "1                               71                                  70   \n",
              "2                               61                                  81   \n",
              "3                               89                                  73   \n",
              "4                               71                                  89   \n",
              "\n",
              "   Percentage in Computer Architecture  Percentage in Mathematics  \\\n",
              "0                                   87                         84   \n",
              "1                                   73                         84   \n",
              "2                                   72                         72   \n",
              "3                                   62                         88   \n",
              "4                                   73                         71   \n",
              "\n",
              "   Percentage in Communication skills  Hours working per day  ...  \\\n",
              "0                                  61                      9  ...   \n",
              "1                                  91                     12  ...   \n",
              "2                                  94                     11  ...   \n",
              "3                                  69                      7  ...   \n",
              "4                                  73                      4  ...   \n",
              "\n",
              "   Interested Type of Books  Salary Range Expected  In a Realtionship?  \\\n",
              "0              Prayer books                 salary                  no   \n",
              "1                 Childrens                 salary                 yes   \n",
              "2                    Travel                   Work                  no   \n",
              "3                   Romance                   Work                 yes   \n",
              "4                 Cookbooks                 salary                  no   \n",
              "\n",
              "   Gentle or Tuff behaviour? Management or Technical Salary/work  \\\n",
              "0                   stubborn              Management      salary   \n",
              "1                     gentle               Technical      salary   \n",
              "2                   stubborn              Management        work   \n",
              "3                     gentle              Management        work   \n",
              "4                   stubborn              Management        work   \n",
              "\n",
              "  hard/smart worker worked in teams ever? Introvert  \\\n",
              "0       hard worker                   yes        no   \n",
              "1       hard worker                    no       yes   \n",
              "2       hard worker                    no       yes   \n",
              "3      smart worker                   yes       yes   \n",
              "4       hard worker                   yes       yes   \n",
              "\n",
              "               Suggested Job Role  \n",
              "0              Database Developer  \n",
              "1            Portal Administrator  \n",
              "2            Portal Administrator  \n",
              "3  Systems Security Administrator  \n",
              "4        Business Systems Analyst  \n",
              "\n",
              "[5 rows x 39 columns]"
            ],
            "text/html": [
              "\n",
              "  <div id=\"df-44448b5a-a1b9-4ff4-87e2-1fcb8c6de44a\">\n",
              "    <div class=\"colab-df-container\">\n",
              "      <div>\n",
              "<style scoped>\n",
              "    .dataframe tbody tr th:only-of-type {\n",
              "        vertical-align: middle;\n",
              "    }\n",
              "\n",
              "    .dataframe tbody tr th {\n",
              "        vertical-align: top;\n",
              "    }\n",
              "\n",
              "    .dataframe thead th {\n",
              "        text-align: right;\n",
              "    }\n",
              "</style>\n",
              "<table border=\"1\" class=\"dataframe\">\n",
              "  <thead>\n",
              "    <tr style=\"text-align: right;\">\n",
              "      <th></th>\n",
              "      <th>Acedamic percentage in Operating Systems</th>\n",
              "      <th>percentage in Algorithms</th>\n",
              "      <th>Percentage in Programming Concepts</th>\n",
              "      <th>Percentage in Software Engineering</th>\n",
              "      <th>Percentage in Computer Networks</th>\n",
              "      <th>Percentage in Electronics Subjects</th>\n",
              "      <th>Percentage in Computer Architecture</th>\n",
              "      <th>Percentage in Mathematics</th>\n",
              "      <th>Percentage in Communication skills</th>\n",
              "      <th>Hours working per day</th>\n",
              "      <th>...</th>\n",
              "      <th>Interested Type of Books</th>\n",
              "      <th>Salary Range Expected</th>\n",
              "      <th>In a Realtionship?</th>\n",
              "      <th>Gentle or Tuff behaviour?</th>\n",
              "      <th>Management or Technical</th>\n",
              "      <th>Salary/work</th>\n",
              "      <th>hard/smart worker</th>\n",
              "      <th>worked in teams ever?</th>\n",
              "      <th>Introvert</th>\n",
              "      <th>Suggested Job Role</th>\n",
              "    </tr>\n",
              "  </thead>\n",
              "  <tbody>\n",
              "    <tr>\n",
              "      <th>0</th>\n",
              "      <td>69</td>\n",
              "      <td>63</td>\n",
              "      <td>78</td>\n",
              "      <td>87</td>\n",
              "      <td>94</td>\n",
              "      <td>94</td>\n",
              "      <td>87</td>\n",
              "      <td>84</td>\n",
              "      <td>61</td>\n",
              "      <td>9</td>\n",
              "      <td>...</td>\n",
              "      <td>Prayer books</td>\n",
              "      <td>salary</td>\n",
              "      <td>no</td>\n",
              "      <td>stubborn</td>\n",
              "      <td>Management</td>\n",
              "      <td>salary</td>\n",
              "      <td>hard worker</td>\n",
              "      <td>yes</td>\n",
              "      <td>no</td>\n",
              "      <td>Database Developer</td>\n",
              "    </tr>\n",
              "    <tr>\n",
              "      <th>1</th>\n",
              "      <td>78</td>\n",
              "      <td>62</td>\n",
              "      <td>73</td>\n",
              "      <td>60</td>\n",
              "      <td>71</td>\n",
              "      <td>70</td>\n",
              "      <td>73</td>\n",
              "      <td>84</td>\n",
              "      <td>91</td>\n",
              "      <td>12</td>\n",
              "      <td>...</td>\n",
              "      <td>Childrens</td>\n",
              "      <td>salary</td>\n",
              "      <td>yes</td>\n",
              "      <td>gentle</td>\n",
              "      <td>Technical</td>\n",
              "      <td>salary</td>\n",
              "      <td>hard worker</td>\n",
              "      <td>no</td>\n",
              "      <td>yes</td>\n",
              "      <td>Portal Administrator</td>\n",
              "    </tr>\n",
              "    <tr>\n",
              "      <th>2</th>\n",
              "      <td>71</td>\n",
              "      <td>86</td>\n",
              "      <td>91</td>\n",
              "      <td>87</td>\n",
              "      <td>61</td>\n",
              "      <td>81</td>\n",
              "      <td>72</td>\n",
              "      <td>72</td>\n",
              "      <td>94</td>\n",
              "      <td>11</td>\n",
              "      <td>...</td>\n",
              "      <td>Travel</td>\n",
              "      <td>Work</td>\n",
              "      <td>no</td>\n",
              "      <td>stubborn</td>\n",
              "      <td>Management</td>\n",
              "      <td>work</td>\n",
              "      <td>hard worker</td>\n",
              "      <td>no</td>\n",
              "      <td>yes</td>\n",
              "      <td>Portal Administrator</td>\n",
              "    </tr>\n",
              "    <tr>\n",
              "      <th>3</th>\n",
              "      <td>76</td>\n",
              "      <td>87</td>\n",
              "      <td>60</td>\n",
              "      <td>84</td>\n",
              "      <td>89</td>\n",
              "      <td>73</td>\n",
              "      <td>62</td>\n",
              "      <td>88</td>\n",
              "      <td>69</td>\n",
              "      <td>7</td>\n",
              "      <td>...</td>\n",
              "      <td>Romance</td>\n",
              "      <td>Work</td>\n",
              "      <td>yes</td>\n",
              "      <td>gentle</td>\n",
              "      <td>Management</td>\n",
              "      <td>work</td>\n",
              "      <td>smart worker</td>\n",
              "      <td>yes</td>\n",
              "      <td>yes</td>\n",
              "      <td>Systems Security Administrator</td>\n",
              "    </tr>\n",
              "    <tr>\n",
              "      <th>4</th>\n",
              "      <td>92</td>\n",
              "      <td>62</td>\n",
              "      <td>90</td>\n",
              "      <td>67</td>\n",
              "      <td>71</td>\n",
              "      <td>89</td>\n",
              "      <td>73</td>\n",
              "      <td>71</td>\n",
              "      <td>73</td>\n",
              "      <td>4</td>\n",
              "      <td>...</td>\n",
              "      <td>Cookbooks</td>\n",
              "      <td>salary</td>\n",
              "      <td>no</td>\n",
              "      <td>stubborn</td>\n",
              "      <td>Management</td>\n",
              "      <td>work</td>\n",
              "      <td>hard worker</td>\n",
              "      <td>yes</td>\n",
              "      <td>yes</td>\n",
              "      <td>Business Systems Analyst</td>\n",
              "    </tr>\n",
              "  </tbody>\n",
              "</table>\n",
              "<p>5 rows × 39 columns</p>\n",
              "</div>\n",
              "      <button class=\"colab-df-convert\" onclick=\"convertToInteractive('df-44448b5a-a1b9-4ff4-87e2-1fcb8c6de44a')\"\n",
              "              title=\"Convert this dataframe to an interactive table.\"\n",
              "              style=\"display:none;\">\n",
              "        \n",
              "  <svg xmlns=\"http://www.w3.org/2000/svg\" height=\"24px\"viewBox=\"0 0 24 24\"\n",
              "       width=\"24px\">\n",
              "    <path d=\"M0 0h24v24H0V0z\" fill=\"none\"/>\n",
              "    <path d=\"M18.56 5.44l.94 2.06.94-2.06 2.06-.94-2.06-.94-.94-2.06-.94 2.06-2.06.94zm-11 1L8.5 8.5l.94-2.06 2.06-.94-2.06-.94L8.5 2.5l-.94 2.06-2.06.94zm10 10l.94 2.06.94-2.06 2.06-.94-2.06-.94-.94-2.06-.94 2.06-2.06.94z\"/><path d=\"M17.41 7.96l-1.37-1.37c-.4-.4-.92-.59-1.43-.59-.52 0-1.04.2-1.43.59L10.3 9.45l-7.72 7.72c-.78.78-.78 2.05 0 2.83L4 21.41c.39.39.9.59 1.41.59.51 0 1.02-.2 1.41-.59l7.78-7.78 2.81-2.81c.8-.78.8-2.07 0-2.86zM5.41 20L4 18.59l7.72-7.72 1.47 1.35L5.41 20z\"/>\n",
              "  </svg>\n",
              "      </button>\n",
              "      \n",
              "  <style>\n",
              "    .colab-df-container {\n",
              "      display:flex;\n",
              "      flex-wrap:wrap;\n",
              "      gap: 12px;\n",
              "    }\n",
              "\n",
              "    .colab-df-convert {\n",
              "      background-color: #E8F0FE;\n",
              "      border: none;\n",
              "      border-radius: 50%;\n",
              "      cursor: pointer;\n",
              "      display: none;\n",
              "      fill: #1967D2;\n",
              "      height: 32px;\n",
              "      padding: 0 0 0 0;\n",
              "      width: 32px;\n",
              "    }\n",
              "\n",
              "    .colab-df-convert:hover {\n",
              "      background-color: #E2EBFA;\n",
              "      box-shadow: 0px 1px 2px rgba(60, 64, 67, 0.3), 0px 1px 3px 1px rgba(60, 64, 67, 0.15);\n",
              "      fill: #174EA6;\n",
              "    }\n",
              "\n",
              "    [theme=dark] .colab-df-convert {\n",
              "      background-color: #3B4455;\n",
              "      fill: #D2E3FC;\n",
              "    }\n",
              "\n",
              "    [theme=dark] .colab-df-convert:hover {\n",
              "      background-color: #434B5C;\n",
              "      box-shadow: 0px 1px 3px 1px rgba(0, 0, 0, 0.15);\n",
              "      filter: drop-shadow(0px 1px 2px rgba(0, 0, 0, 0.3));\n",
              "      fill: #FFFFFF;\n",
              "    }\n",
              "  </style>\n",
              "\n",
              "      <script>\n",
              "        const buttonEl =\n",
              "          document.querySelector('#df-44448b5a-a1b9-4ff4-87e2-1fcb8c6de44a button.colab-df-convert');\n",
              "        buttonEl.style.display =\n",
              "          google.colab.kernel.accessAllowed ? 'block' : 'none';\n",
              "\n",
              "        async function convertToInteractive(key) {\n",
              "          const element = document.querySelector('#df-44448b5a-a1b9-4ff4-87e2-1fcb8c6de44a');\n",
              "          const dataTable =\n",
              "            await google.colab.kernel.invokeFunction('convertToInteractive',\n",
              "                                                     [key], {});\n",
              "          if (!dataTable) return;\n",
              "\n",
              "          const docLinkHtml = 'Like what you see? Visit the ' +\n",
              "            '<a target=\"_blank\" href=https://colab.research.google.com/notebooks/data_table.ipynb>data table notebook</a>'\n",
              "            + ' to learn more about interactive tables.';\n",
              "          element.innerHTML = '';\n",
              "          dataTable['output_type'] = 'display_data';\n",
              "          await google.colab.output.renderOutput(dataTable, element);\n",
              "          const docLink = document.createElement('div');\n",
              "          docLink.innerHTML = docLinkHtml;\n",
              "          element.appendChild(docLink);\n",
              "        }\n",
              "      </script>\n",
              "    </div>\n",
              "  </div>\n",
              "  "
            ]
          },
          "metadata": {},
          "execution_count": 3
        }
      ]
    },
    {
      "cell_type": "code",
      "source": [
        "labels = dataset['Suggested Job Role'].unique()"
      ],
      "metadata": {
        "id": "RefXhB3M1sa1"
      },
      "execution_count": 7,
      "outputs": []
    },
    {
      "cell_type": "code",
      "source": [
        "label_list = labels.tolist()"
      ],
      "metadata": {
        "id": "UE5vSwII18gL"
      },
      "execution_count": 12,
      "outputs": []
    },
    {
      "cell_type": "code",
      "source": [
        "label_list"
      ],
      "metadata": {
        "colab": {
          "base_uri": "https://localhost:8080/"
        },
        "id": "G7Xx0mqa2SXy",
        "outputId": "1e3a15e8-c2d2-423e-b37d-252a61179536"
      },
      "execution_count": 13,
      "outputs": [
        {
          "output_type": "execute_result",
          "data": {
            "text/plain": [
              "['Database Developer',\n",
              " 'Portal Administrator',\n",
              " 'Systems Security Administrator',\n",
              " 'Business Systems Analyst',\n",
              " 'Software Systems Engineer',\n",
              " 'Business Intelligence Analyst',\n",
              " 'CRM Technical Developer',\n",
              " 'Mobile Applications Developer',\n",
              " 'UX Designer',\n",
              " 'Quality Assurance Associate',\n",
              " 'Web Developer',\n",
              " 'Information Security Analyst',\n",
              " 'CRM Business Analyst',\n",
              " 'Technical Support',\n",
              " 'Project Manager',\n",
              " 'Information Technology Manager',\n",
              " 'Programmer Analyst',\n",
              " 'Design & UX',\n",
              " 'Solutions Architect',\n",
              " 'Systems Analyst',\n",
              " 'Network Security Administrator',\n",
              " 'Data Architect',\n",
              " 'Software Developer',\n",
              " 'E-Commerce Analyst',\n",
              " 'Technical Services/Help Desk/Tech Support',\n",
              " 'Information Technology Auditor',\n",
              " 'Database Manager',\n",
              " 'Applications Developer',\n",
              " 'Database Administrator',\n",
              " 'Network Engineer',\n",
              " 'Software Engineer',\n",
              " 'Technical Engineer',\n",
              " 'Network Security Engineer',\n",
              " 'Software Quality Assurance (QA) / Testing']"
            ]
          },
          "metadata": {},
          "execution_count": 13
        }
      ]
    },
    {
      "cell_type": "code",
      "source": [
        "dataset['Suggested Job Role'] = dataset['Suggested Job Role'].apply(lambda x: label_list.index(x))"
      ],
      "metadata": {
        "id": "ioQrk3nQgFjM"
      },
      "execution_count": 14,
      "outputs": []
    },
    {
      "cell_type": "code",
      "source": [
        "data = dataset.iloc[:,:-1].values\n",
        "label = dataset.iloc[:,-1].values\n",
        "len(data[0]) # 38 columns"
      ],
      "metadata": {
        "colab": {
          "base_uri": "https://localhost:8080/"
        },
        "id": "aiOgImavgVey",
        "outputId": "792ceb72-bf21-47f4-9ff4-27d03fd37646"
      },
      "execution_count": 16,
      "outputs": [
        {
          "output_type": "execute_result",
          "data": {
            "text/plain": [
              "38"
            ]
          },
          "metadata": {},
          "execution_count": 16
        }
      ]
    },
    {
      "cell_type": "code",
      "source": [
        "len(label)"
      ],
      "metadata": {
        "colab": {
          "base_uri": "https://localhost:8080/"
        },
        "id": "5hi_0OdevHT7",
        "outputId": "9d182d12-f242-4df7-9d1c-e71a6aa580bf"
      },
      "execution_count": 17,
      "outputs": [
        {
          "output_type": "execute_result",
          "data": {
            "text/plain": [
              "20000"
            ]
          },
          "metadata": {},
          "execution_count": 17
        }
      ]
    },
    {
      "cell_type": "markdown",
      "source": [
        "### One Hot Encoding"
      ],
      "metadata": {
        "id": "WSqZ-rn0g5lU"
      }
    },
    {
      "cell_type": "code",
      "source": [
        "from sklearn.preprocessing import LabelEncoder, OneHotEncoder"
      ],
      "metadata": {
        "id": "P7s5sSoRg4ND"
      },
      "execution_count": 18,
      "outputs": []
    },
    {
      "cell_type": "code",
      "source": [
        "labelencoder = LabelEncoder()"
      ],
      "metadata": {
        "id": "UdDzYwORhDE3"
      },
      "execution_count": 19,
      "outputs": []
    },
    {
      "cell_type": "code",
      "source": [
        "for i in range(14,38):\n",
        "  data[:,i] = labelencoder.fit_transform(data[:,i])\n",
        "\n",
        "data[:5]"
      ],
      "metadata": {
        "colab": {
          "base_uri": "https://localhost:8080/"
        },
        "id": "v63pO4tVhJ4k",
        "outputId": "5a281659-ba50-4d8b-c382-03195d5bde3a"
      },
      "execution_count": 20,
      "outputs": [
        {
          "output_type": "execute_result",
          "data": {
            "text/plain": [
              "array([[69, 63, 78, 87, 94, 94, 87, 84, 61, 9, 4, 0, 4, 8, 1, 1, 1, 8, 0,\n",
              "        0, 1, 0, 0, 4, 4, 0, 8, 0, 0, 21, 1, 0, 1, 0, 0, 0, 1, 0],\n",
              "       [78, 62, 73, 60, 71, 70, 73, 84, 91, 12, 7, 1, 2, 3, 1, 0, 1, 5,\n",
              "        2, 0, 0, 2, 1, 7, 0, 1, 4, 1, 1, 5, 1, 1, 0, 1, 0, 0, 0, 1],\n",
              "       [71, 86, 91, 87, 61, 81, 72, 72, 94, 11, 1, 4, 1, 3, 1, 0, 1, 0,\n",
              "        7, 0, 1, 2, 0, 6, 2, 0, 5, 1, 1, 29, 0, 0, 1, 0, 1, 0, 0, 1],\n",
              "       [76, 87, 60, 84, 89, 73, 62, 88, 69, 7, 1, 1, 2, 5, 0, 1, 0, 6, 1,\n",
              "        1, 0, 1, 0, 7, 5, 0, 7, 0, 0, 23, 0, 1, 0, 0, 1, 1, 1, 1],\n",
              "       [92, 62, 90, 67, 71, 89, 73, 71, 73, 4, 5, 4, 6, 3, 0, 0, 0, 0, 0,\n",
              "        0, 0, 2, 0, 0, 5, 0, 9, 0, 1, 7, 1, 0, 1, 0, 1, 0, 1, 1]],\n",
              "      dtype=object)"
            ]
          },
          "metadata": {},
          "execution_count": 20
        }
      ]
    },
    {
      "cell_type": "code",
      "source": [
        "from sklearn.preprocessing import Normalizer"
      ],
      "metadata": {
        "id": "Oaugzn1WhvmW"
      },
      "execution_count": 21,
      "outputs": []
    },
    {
      "cell_type": "code",
      "source": [
        "data1 = data[:,:14]"
      ],
      "metadata": {
        "id": "o7jz7kywhyuR"
      },
      "execution_count": 22,
      "outputs": []
    },
    {
      "cell_type": "code",
      "source": [
        "normalized_data = Normalizer().fit_transform(data1)\n",
        "normalized_data.shape"
      ],
      "metadata": {
        "colab": {
          "base_uri": "https://localhost:8080/"
        },
        "id": "zRCAI0nsh001",
        "outputId": "6f58cbc4-63d6-4720-d5c2-29669b70c5ad"
      },
      "execution_count": 23,
      "outputs": [
        {
          "output_type": "execute_result",
          "data": {
            "text/plain": [
              "(20000, 14)"
            ]
          },
          "metadata": {},
          "execution_count": 23
        }
      ]
    },
    {
      "cell_type": "code",
      "source": [
        "data2 = data[:, 14:]\n",
        "data2.shape"
      ],
      "metadata": {
        "colab": {
          "base_uri": "https://localhost:8080/"
        },
        "id": "E8L3ceLdh__8",
        "outputId": "cd1674a0-50b1-4749-a010-4e3af2755e29"
      },
      "execution_count": 24,
      "outputs": [
        {
          "output_type": "execute_result",
          "data": {
            "text/plain": [
              "(20000, 24)"
            ]
          },
          "metadata": {},
          "execution_count": 24
        }
      ]
    },
    {
      "cell_type": "code",
      "source": [
        "df1 = np.append(normalized_data, data2, axis=1)\n",
        "df1.shape"
      ],
      "metadata": {
        "colab": {
          "base_uri": "https://localhost:8080/"
        },
        "id": "mpsHjco1iKQX",
        "outputId": "fc772be4-b211-4cb9-e23b-9d785299173b"
      },
      "execution_count": 25,
      "outputs": [
        {
          "output_type": "execute_result",
          "data": {
            "text/plain": [
              "(20000, 38)"
            ]
          },
          "metadata": {},
          "execution_count": 25
        }
      ]
    },
    {
      "cell_type": "markdown",
      "source": [
        "## Adding readable headers"
      ],
      "metadata": {
        "id": "77z6mMVAiXi2"
      }
    },
    {
      "cell_type": "code",
      "source": [
        "headers = ['Acedamic percentage in Operating Systems', 'percentage in Algorithms',\n",
        "       'Percentage in Programming Concepts',\n",
        "       'Percentage in Software Engineering', 'Percentage in Computer Networks',\n",
        "       'Percentage in Electronics Subjects',\n",
        "       'Percentage in Computer Architecture', 'Percentage in Mathematics',\n",
        "       'Percentage in Communication skills', 'Hours working per day',\n",
        "       'Logical quotient rating', 'hackathons', 'coding skills rating',\n",
        "       'public speaking points', 'can work long time before system?',\n",
        "       'self-learning capability?', 'Extra-courses did', 'certifications',\n",
        "       'workshops', 'talenttests taken?', 'olympiads',\n",
        "       'reading and writing skills', 'memory capability score',\n",
        "       'Interested subjects', 'interested career area ', 'Job/Higher Studies?',\n",
        "       'Type of company want to settle in?',\n",
        "       'Taken inputs from seniors or elders', 'interested in games',\n",
        "       'Interested Type of Books', 'Salary Range Expected',\n",
        "       'In a Realtionship?', 'Gentle or Tuff behaviour?',\n",
        "       'Management or Technical', 'Salary/work', 'hard/smart worker',\n",
        "       'worked in teams ever?', 'Introvert']"
      ],
      "metadata": {
        "id": "w_BEl3_3iV34"
      },
      "execution_count": 26,
      "outputs": []
    },
    {
      "cell_type": "code",
      "source": [
        "x1 = pd.DataFrame(df1, columns=headers)"
      ],
      "metadata": {
        "id": "ZJaU82nmicfC"
      },
      "execution_count": 27,
      "outputs": []
    },
    {
      "cell_type": "code",
      "source": [
        "x1.head()"
      ],
      "metadata": {
        "colab": {
          "base_uri": "https://localhost:8080/",
          "height": 369
        },
        "id": "7qs_5-ewig4t",
        "outputId": "57a5c62b-881f-40c5-e91a-1401886b9035"
      },
      "execution_count": 28,
      "outputs": [
        {
          "output_type": "execute_result",
          "data": {
            "text/plain": [
              "  Acedamic percentage in Operating Systems percentage in Algorithms  \\\n",
              "0                                  0.28509                 0.260299   \n",
              "1                                  0.34998                 0.278189   \n",
              "2                                 0.295012                 0.357339   \n",
              "3                                 0.328025                 0.375503   \n",
              "4                                 0.397157                 0.267649   \n",
              "\n",
              "  Percentage in Programming Concepts Percentage in Software Engineering  \\\n",
              "0                           0.322276                           0.359461   \n",
              "1                           0.327545                           0.269215   \n",
              "2                           0.378115                           0.361494   \n",
              "3                           0.258967                           0.362554   \n",
              "4                           0.388523                           0.289234   \n",
              "\n",
              "  Percentage in Computer Networks Percentage in Electronics Subjects  \\\n",
              "0                        0.388383                           0.388383   \n",
              "1                        0.318571                           0.314085   \n",
              "2                        0.253461                           0.336563   \n",
              "3                        0.384135                           0.315077   \n",
              "4                        0.306502                           0.384206   \n",
              "\n",
              "  Percentage in Computer Architecture Percentage in Mathematics  \\\n",
              "0                            0.359461                  0.347066   \n",
              "1                            0.327545                  0.376901   \n",
              "2                            0.299168                  0.299168   \n",
              "3                              0.2676                  0.379819   \n",
              "4                            0.315136                  0.306502   \n",
              "\n",
              "  Percentage in Communication skills Hours working per day  ...  \\\n",
              "0                           0.252036              0.037186  ...   \n",
              "1                            0.40831              0.053843  ...   \n",
              "2                            0.39058              0.045706  ...   \n",
              "3                           0.297812              0.030213  ...   \n",
              "4                           0.315136              0.017268  ...   \n",
              "\n",
              "  interested in games Interested Type of Books Salary Range Expected  \\\n",
              "0                   0                       21                     1   \n",
              "1                   1                        5                     1   \n",
              "2                   1                       29                     0   \n",
              "3                   0                       23                     0   \n",
              "4                   1                        7                     1   \n",
              "\n",
              "  In a Realtionship? Gentle or Tuff behaviour? Management or Technical  \\\n",
              "0                  0                         1                       0   \n",
              "1                  1                         0                       1   \n",
              "2                  0                         1                       0   \n",
              "3                  1                         0                       0   \n",
              "4                  0                         1                       0   \n",
              "\n",
              "  Salary/work hard/smart worker worked in teams ever? Introvert  \n",
              "0           0                 0                     1         0  \n",
              "1           0                 0                     0         1  \n",
              "2           1                 0                     0         1  \n",
              "3           1                 1                     1         1  \n",
              "4           1                 0                     1         1  \n",
              "\n",
              "[5 rows x 38 columns]"
            ],
            "text/html": [
              "\n",
              "  <div id=\"df-70f0b9df-993c-4608-a507-4c6cc0d1ca9b\">\n",
              "    <div class=\"colab-df-container\">\n",
              "      <div>\n",
              "<style scoped>\n",
              "    .dataframe tbody tr th:only-of-type {\n",
              "        vertical-align: middle;\n",
              "    }\n",
              "\n",
              "    .dataframe tbody tr th {\n",
              "        vertical-align: top;\n",
              "    }\n",
              "\n",
              "    .dataframe thead th {\n",
              "        text-align: right;\n",
              "    }\n",
              "</style>\n",
              "<table border=\"1\" class=\"dataframe\">\n",
              "  <thead>\n",
              "    <tr style=\"text-align: right;\">\n",
              "      <th></th>\n",
              "      <th>Acedamic percentage in Operating Systems</th>\n",
              "      <th>percentage in Algorithms</th>\n",
              "      <th>Percentage in Programming Concepts</th>\n",
              "      <th>Percentage in Software Engineering</th>\n",
              "      <th>Percentage in Computer Networks</th>\n",
              "      <th>Percentage in Electronics Subjects</th>\n",
              "      <th>Percentage in Computer Architecture</th>\n",
              "      <th>Percentage in Mathematics</th>\n",
              "      <th>Percentage in Communication skills</th>\n",
              "      <th>Hours working per day</th>\n",
              "      <th>...</th>\n",
              "      <th>interested in games</th>\n",
              "      <th>Interested Type of Books</th>\n",
              "      <th>Salary Range Expected</th>\n",
              "      <th>In a Realtionship?</th>\n",
              "      <th>Gentle or Tuff behaviour?</th>\n",
              "      <th>Management or Technical</th>\n",
              "      <th>Salary/work</th>\n",
              "      <th>hard/smart worker</th>\n",
              "      <th>worked in teams ever?</th>\n",
              "      <th>Introvert</th>\n",
              "    </tr>\n",
              "  </thead>\n",
              "  <tbody>\n",
              "    <tr>\n",
              "      <th>0</th>\n",
              "      <td>0.28509</td>\n",
              "      <td>0.260299</td>\n",
              "      <td>0.322276</td>\n",
              "      <td>0.359461</td>\n",
              "      <td>0.388383</td>\n",
              "      <td>0.388383</td>\n",
              "      <td>0.359461</td>\n",
              "      <td>0.347066</td>\n",
              "      <td>0.252036</td>\n",
              "      <td>0.037186</td>\n",
              "      <td>...</td>\n",
              "      <td>0</td>\n",
              "      <td>21</td>\n",
              "      <td>1</td>\n",
              "      <td>0</td>\n",
              "      <td>1</td>\n",
              "      <td>0</td>\n",
              "      <td>0</td>\n",
              "      <td>0</td>\n",
              "      <td>1</td>\n",
              "      <td>0</td>\n",
              "    </tr>\n",
              "    <tr>\n",
              "      <th>1</th>\n",
              "      <td>0.34998</td>\n",
              "      <td>0.278189</td>\n",
              "      <td>0.327545</td>\n",
              "      <td>0.269215</td>\n",
              "      <td>0.318571</td>\n",
              "      <td>0.314085</td>\n",
              "      <td>0.327545</td>\n",
              "      <td>0.376901</td>\n",
              "      <td>0.40831</td>\n",
              "      <td>0.053843</td>\n",
              "      <td>...</td>\n",
              "      <td>1</td>\n",
              "      <td>5</td>\n",
              "      <td>1</td>\n",
              "      <td>1</td>\n",
              "      <td>0</td>\n",
              "      <td>1</td>\n",
              "      <td>0</td>\n",
              "      <td>0</td>\n",
              "      <td>0</td>\n",
              "      <td>1</td>\n",
              "    </tr>\n",
              "    <tr>\n",
              "      <th>2</th>\n",
              "      <td>0.295012</td>\n",
              "      <td>0.357339</td>\n",
              "      <td>0.378115</td>\n",
              "      <td>0.361494</td>\n",
              "      <td>0.253461</td>\n",
              "      <td>0.336563</td>\n",
              "      <td>0.299168</td>\n",
              "      <td>0.299168</td>\n",
              "      <td>0.39058</td>\n",
              "      <td>0.045706</td>\n",
              "      <td>...</td>\n",
              "      <td>1</td>\n",
              "      <td>29</td>\n",
              "      <td>0</td>\n",
              "      <td>0</td>\n",
              "      <td>1</td>\n",
              "      <td>0</td>\n",
              "      <td>1</td>\n",
              "      <td>0</td>\n",
              "      <td>0</td>\n",
              "      <td>1</td>\n",
              "    </tr>\n",
              "    <tr>\n",
              "      <th>3</th>\n",
              "      <td>0.328025</td>\n",
              "      <td>0.375503</td>\n",
              "      <td>0.258967</td>\n",
              "      <td>0.362554</td>\n",
              "      <td>0.384135</td>\n",
              "      <td>0.315077</td>\n",
              "      <td>0.2676</td>\n",
              "      <td>0.379819</td>\n",
              "      <td>0.297812</td>\n",
              "      <td>0.030213</td>\n",
              "      <td>...</td>\n",
              "      <td>0</td>\n",
              "      <td>23</td>\n",
              "      <td>0</td>\n",
              "      <td>1</td>\n",
              "      <td>0</td>\n",
              "      <td>0</td>\n",
              "      <td>1</td>\n",
              "      <td>1</td>\n",
              "      <td>1</td>\n",
              "      <td>1</td>\n",
              "    </tr>\n",
              "    <tr>\n",
              "      <th>4</th>\n",
              "      <td>0.397157</td>\n",
              "      <td>0.267649</td>\n",
              "      <td>0.388523</td>\n",
              "      <td>0.289234</td>\n",
              "      <td>0.306502</td>\n",
              "      <td>0.384206</td>\n",
              "      <td>0.315136</td>\n",
              "      <td>0.306502</td>\n",
              "      <td>0.315136</td>\n",
              "      <td>0.017268</td>\n",
              "      <td>...</td>\n",
              "      <td>1</td>\n",
              "      <td>7</td>\n",
              "      <td>1</td>\n",
              "      <td>0</td>\n",
              "      <td>1</td>\n",
              "      <td>0</td>\n",
              "      <td>1</td>\n",
              "      <td>0</td>\n",
              "      <td>1</td>\n",
              "      <td>1</td>\n",
              "    </tr>\n",
              "  </tbody>\n",
              "</table>\n",
              "<p>5 rows × 38 columns</p>\n",
              "</div>\n",
              "      <button class=\"colab-df-convert\" onclick=\"convertToInteractive('df-70f0b9df-993c-4608-a507-4c6cc0d1ca9b')\"\n",
              "              title=\"Convert this dataframe to an interactive table.\"\n",
              "              style=\"display:none;\">\n",
              "        \n",
              "  <svg xmlns=\"http://www.w3.org/2000/svg\" height=\"24px\"viewBox=\"0 0 24 24\"\n",
              "       width=\"24px\">\n",
              "    <path d=\"M0 0h24v24H0V0z\" fill=\"none\"/>\n",
              "    <path d=\"M18.56 5.44l.94 2.06.94-2.06 2.06-.94-2.06-.94-.94-2.06-.94 2.06-2.06.94zm-11 1L8.5 8.5l.94-2.06 2.06-.94-2.06-.94L8.5 2.5l-.94 2.06-2.06.94zm10 10l.94 2.06.94-2.06 2.06-.94-2.06-.94-.94-2.06-.94 2.06-2.06.94z\"/><path d=\"M17.41 7.96l-1.37-1.37c-.4-.4-.92-.59-1.43-.59-.52 0-1.04.2-1.43.59L10.3 9.45l-7.72 7.72c-.78.78-.78 2.05 0 2.83L4 21.41c.39.39.9.59 1.41.59.51 0 1.02-.2 1.41-.59l7.78-7.78 2.81-2.81c.8-.78.8-2.07 0-2.86zM5.41 20L4 18.59l7.72-7.72 1.47 1.35L5.41 20z\"/>\n",
              "  </svg>\n",
              "      </button>\n",
              "      \n",
              "  <style>\n",
              "    .colab-df-container {\n",
              "      display:flex;\n",
              "      flex-wrap:wrap;\n",
              "      gap: 12px;\n",
              "    }\n",
              "\n",
              "    .colab-df-convert {\n",
              "      background-color: #E8F0FE;\n",
              "      border: none;\n",
              "      border-radius: 50%;\n",
              "      cursor: pointer;\n",
              "      display: none;\n",
              "      fill: #1967D2;\n",
              "      height: 32px;\n",
              "      padding: 0 0 0 0;\n",
              "      width: 32px;\n",
              "    }\n",
              "\n",
              "    .colab-df-convert:hover {\n",
              "      background-color: #E2EBFA;\n",
              "      box-shadow: 0px 1px 2px rgba(60, 64, 67, 0.3), 0px 1px 3px 1px rgba(60, 64, 67, 0.15);\n",
              "      fill: #174EA6;\n",
              "    }\n",
              "\n",
              "    [theme=dark] .colab-df-convert {\n",
              "      background-color: #3B4455;\n",
              "      fill: #D2E3FC;\n",
              "    }\n",
              "\n",
              "    [theme=dark] .colab-df-convert:hover {\n",
              "      background-color: #434B5C;\n",
              "      box-shadow: 0px 1px 3px 1px rgba(0, 0, 0, 0.15);\n",
              "      filter: drop-shadow(0px 1px 2px rgba(0, 0, 0, 0.3));\n",
              "      fill: #FFFFFF;\n",
              "    }\n",
              "  </style>\n",
              "\n",
              "      <script>\n",
              "        const buttonEl =\n",
              "          document.querySelector('#df-70f0b9df-993c-4608-a507-4c6cc0d1ca9b button.colab-df-convert');\n",
              "        buttonEl.style.display =\n",
              "          google.colab.kernel.accessAllowed ? 'block' : 'none';\n",
              "\n",
              "        async function convertToInteractive(key) {\n",
              "          const element = document.querySelector('#df-70f0b9df-993c-4608-a507-4c6cc0d1ca9b');\n",
              "          const dataTable =\n",
              "            await google.colab.kernel.invokeFunction('convertToInteractive',\n",
              "                                                     [key], {});\n",
              "          if (!dataTable) return;\n",
              "\n",
              "          const docLinkHtml = 'Like what you see? Visit the ' +\n",
              "            '<a target=\"_blank\" href=https://colab.research.google.com/notebooks/data_table.ipynb>data table notebook</a>'\n",
              "            + ' to learn more about interactive tables.';\n",
              "          element.innerHTML = '';\n",
              "          dataTable['output_type'] = 'display_data';\n",
              "          await google.colab.output.renderOutput(dataTable, element);\n",
              "          const docLink = document.createElement('div');\n",
              "          docLink.innerHTML = docLinkHtml;\n",
              "          element.appendChild(docLink);\n",
              "        }\n",
              "      </script>\n",
              "    </div>\n",
              "  </div>\n",
              "  "
            ]
          },
          "metadata": {},
          "execution_count": 28
        }
      ]
    },
    {
      "cell_type": "code",
      "source": [
        "label = labelencoder.fit_transform(label)\n",
        "len(label)"
      ],
      "metadata": {
        "colab": {
          "base_uri": "https://localhost:8080/"
        },
        "id": "mYzeeRixinIf",
        "outputId": "bd73215e-8c02-4134-fbe0-510b1e290f4e"
      },
      "execution_count": 29,
      "outputs": [
        {
          "output_type": "execute_result",
          "data": {
            "text/plain": [
              "20000"
            ]
          },
          "metadata": {},
          "execution_count": 29
        }
      ]
    },
    {
      "cell_type": "code",
      "source": [
        "label = dataset.iloc[:,-1].values"
      ],
      "metadata": {
        "id": "FPYYKyeByNVV"
      },
      "execution_count": null,
      "outputs": []
    },
    {
      "cell_type": "code",
      "source": [
        "y = pd.DataFrame(label, columns=[\"Suggested Job Role\"])\n",
        "y"
      ],
      "metadata": {
        "colab": {
          "base_uri": "https://localhost:8080/",
          "height": 423
        },
        "id": "5zkHNfq-iqfP",
        "outputId": "1349c390-8ae8-415b-e88b-00865bd57796"
      },
      "execution_count": 32,
      "outputs": [
        {
          "output_type": "execute_result",
          "data": {
            "text/plain": [
              "       Suggested Job Role\n",
              "0                       0\n",
              "1                       1\n",
              "2                       1\n",
              "3                       2\n",
              "4                       3\n",
              "...                   ...\n",
              "19995                  31\n",
              "19996                  23\n",
              "19997                   5\n",
              "19998                  33\n",
              "19999                  27\n",
              "\n",
              "[20000 rows x 1 columns]"
            ],
            "text/html": [
              "\n",
              "  <div id=\"df-96db0b29-d152-4710-8546-7f1f720c9048\">\n",
              "    <div class=\"colab-df-container\">\n",
              "      <div>\n",
              "<style scoped>\n",
              "    .dataframe tbody tr th:only-of-type {\n",
              "        vertical-align: middle;\n",
              "    }\n",
              "\n",
              "    .dataframe tbody tr th {\n",
              "        vertical-align: top;\n",
              "    }\n",
              "\n",
              "    .dataframe thead th {\n",
              "        text-align: right;\n",
              "    }\n",
              "</style>\n",
              "<table border=\"1\" class=\"dataframe\">\n",
              "  <thead>\n",
              "    <tr style=\"text-align: right;\">\n",
              "      <th></th>\n",
              "      <th>Suggested Job Role</th>\n",
              "    </tr>\n",
              "  </thead>\n",
              "  <tbody>\n",
              "    <tr>\n",
              "      <th>0</th>\n",
              "      <td>0</td>\n",
              "    </tr>\n",
              "    <tr>\n",
              "      <th>1</th>\n",
              "      <td>1</td>\n",
              "    </tr>\n",
              "    <tr>\n",
              "      <th>2</th>\n",
              "      <td>1</td>\n",
              "    </tr>\n",
              "    <tr>\n",
              "      <th>3</th>\n",
              "      <td>2</td>\n",
              "    </tr>\n",
              "    <tr>\n",
              "      <th>4</th>\n",
              "      <td>3</td>\n",
              "    </tr>\n",
              "    <tr>\n",
              "      <th>...</th>\n",
              "      <td>...</td>\n",
              "    </tr>\n",
              "    <tr>\n",
              "      <th>19995</th>\n",
              "      <td>31</td>\n",
              "    </tr>\n",
              "    <tr>\n",
              "      <th>19996</th>\n",
              "      <td>23</td>\n",
              "    </tr>\n",
              "    <tr>\n",
              "      <th>19997</th>\n",
              "      <td>5</td>\n",
              "    </tr>\n",
              "    <tr>\n",
              "      <th>19998</th>\n",
              "      <td>33</td>\n",
              "    </tr>\n",
              "    <tr>\n",
              "      <th>19999</th>\n",
              "      <td>27</td>\n",
              "    </tr>\n",
              "  </tbody>\n",
              "</table>\n",
              "<p>20000 rows × 1 columns</p>\n",
              "</div>\n",
              "      <button class=\"colab-df-convert\" onclick=\"convertToInteractive('df-96db0b29-d152-4710-8546-7f1f720c9048')\"\n",
              "              title=\"Convert this dataframe to an interactive table.\"\n",
              "              style=\"display:none;\">\n",
              "        \n",
              "  <svg xmlns=\"http://www.w3.org/2000/svg\" height=\"24px\"viewBox=\"0 0 24 24\"\n",
              "       width=\"24px\">\n",
              "    <path d=\"M0 0h24v24H0V0z\" fill=\"none\"/>\n",
              "    <path d=\"M18.56 5.44l.94 2.06.94-2.06 2.06-.94-2.06-.94-.94-2.06-.94 2.06-2.06.94zm-11 1L8.5 8.5l.94-2.06 2.06-.94-2.06-.94L8.5 2.5l-.94 2.06-2.06.94zm10 10l.94 2.06.94-2.06 2.06-.94-2.06-.94-.94-2.06-.94 2.06-2.06.94z\"/><path d=\"M17.41 7.96l-1.37-1.37c-.4-.4-.92-.59-1.43-.59-.52 0-1.04.2-1.43.59L10.3 9.45l-7.72 7.72c-.78.78-.78 2.05 0 2.83L4 21.41c.39.39.9.59 1.41.59.51 0 1.02-.2 1.41-.59l7.78-7.78 2.81-2.81c.8-.78.8-2.07 0-2.86zM5.41 20L4 18.59l7.72-7.72 1.47 1.35L5.41 20z\"/>\n",
              "  </svg>\n",
              "      </button>\n",
              "      \n",
              "  <style>\n",
              "    .colab-df-container {\n",
              "      display:flex;\n",
              "      flex-wrap:wrap;\n",
              "      gap: 12px;\n",
              "    }\n",
              "\n",
              "    .colab-df-convert {\n",
              "      background-color: #E8F0FE;\n",
              "      border: none;\n",
              "      border-radius: 50%;\n",
              "      cursor: pointer;\n",
              "      display: none;\n",
              "      fill: #1967D2;\n",
              "      height: 32px;\n",
              "      padding: 0 0 0 0;\n",
              "      width: 32px;\n",
              "    }\n",
              "\n",
              "    .colab-df-convert:hover {\n",
              "      background-color: #E2EBFA;\n",
              "      box-shadow: 0px 1px 2px rgba(60, 64, 67, 0.3), 0px 1px 3px 1px rgba(60, 64, 67, 0.15);\n",
              "      fill: #174EA6;\n",
              "    }\n",
              "\n",
              "    [theme=dark] .colab-df-convert {\n",
              "      background-color: #3B4455;\n",
              "      fill: #D2E3FC;\n",
              "    }\n",
              "\n",
              "    [theme=dark] .colab-df-convert:hover {\n",
              "      background-color: #434B5C;\n",
              "      box-shadow: 0px 1px 3px 1px rgba(0, 0, 0, 0.15);\n",
              "      filter: drop-shadow(0px 1px 2px rgba(0, 0, 0, 0.3));\n",
              "      fill: #FFFFFF;\n",
              "    }\n",
              "  </style>\n",
              "\n",
              "      <script>\n",
              "        const buttonEl =\n",
              "          document.querySelector('#df-96db0b29-d152-4710-8546-7f1f720c9048 button.colab-df-convert');\n",
              "        buttonEl.style.display =\n",
              "          google.colab.kernel.accessAllowed ? 'block' : 'none';\n",
              "\n",
              "        async function convertToInteractive(key) {\n",
              "          const element = document.querySelector('#df-96db0b29-d152-4710-8546-7f1f720c9048');\n",
              "          const dataTable =\n",
              "            await google.colab.kernel.invokeFunction('convertToInteractive',\n",
              "                                                     [key], {});\n",
              "          if (!dataTable) return;\n",
              "\n",
              "          const docLinkHtml = 'Like what you see? Visit the ' +\n",
              "            '<a target=\"_blank\" href=https://colab.research.google.com/notebooks/data_table.ipynb>data table notebook</a>'\n",
              "            + ' to learn more about interactive tables.';\n",
              "          element.innerHTML = '';\n",
              "          dataTable['output_type'] = 'display_data';\n",
              "          await google.colab.output.renderOutput(dataTable, element);\n",
              "          const docLink = document.createElement('div');\n",
              "          docLink.innerHTML = docLinkHtml;\n",
              "          element.appendChild(docLink);\n",
              "        }\n",
              "      </script>\n",
              "    </div>\n",
              "  </div>\n",
              "  "
            ]
          },
          "metadata": {},
          "execution_count": 32
        }
      ]
    },
    {
      "cell_type": "markdown",
      "source": [
        "# 1. DECISION TREE CLASSIFIER"
      ],
      "metadata": {
        "id": "wA1xjSexm2IV"
      }
    },
    {
      "cell_type": "code",
      "source": [
        "from sklearn import tree\n",
        "from sklearn.model_selection import train_test_split\n",
        "from sklearn import preprocessing\n",
        "from sklearn.metrics import accuracy_score"
      ],
      "metadata": {
        "id": "274-j5vRm5D4"
      },
      "execution_count": 50,
      "outputs": []
    },
    {
      "cell_type": "code",
      "source": [
        "x_train, x_test, y_train, y_test = train_test_split(x1, y, test_size=0.3, random_state=10)"
      ],
      "metadata": {
        "id": "3YdmIknxnAfo"
      },
      "execution_count": 37,
      "outputs": []
    },
    {
      "cell_type": "code",
      "source": [
        "len(x_train)"
      ],
      "metadata": {
        "colab": {
          "base_uri": "https://localhost:8080/"
        },
        "id": "buD8Jd58nKJK",
        "outputId": "90d6b380-0cd3-4e92-f542-66fd0aff0b92"
      },
      "execution_count": 51,
      "outputs": [
        {
          "output_type": "execute_result",
          "data": {
            "text/plain": [
              "14000"
            ]
          },
          "metadata": {},
          "execution_count": 51
        }
      ]
    },
    {
      "cell_type": "code",
      "source": [
        "len(x_test)"
      ],
      "metadata": {
        "colab": {
          "base_uri": "https://localhost:8080/"
        },
        "id": "H09qkdsznPIl",
        "outputId": "105dd899-a25f-43f2-ae0e-432717b0075a"
      },
      "execution_count": 52,
      "outputs": [
        {
          "output_type": "execute_result",
          "data": {
            "text/plain": [
              "6000"
            ]
          },
          "metadata": {},
          "execution_count": 52
        }
      ]
    },
    {
      "cell_type": "code",
      "source": [
        "from sklearn.metrics import confusion_matrix, accuracy_score"
      ],
      "metadata": {
        "id": "Eamyk18qncv0"
      },
      "execution_count": 53,
      "outputs": []
    },
    {
      "cell_type": "code",
      "source": [
        "classifier = tree.DecisionTreeClassifier()\n",
        "classifier = classifier.fit(x_train, y_train)"
      ],
      "metadata": {
        "id": "3M3T54N4niu5"
      },
      "execution_count": 54,
      "outputs": []
    },
    {
      "cell_type": "code",
      "source": [
        "y_pred = classifier.predict(x_test)"
      ],
      "metadata": {
        "id": "vL4rX62vnuuP"
      },
      "execution_count": 55,
      "outputs": []
    },
    {
      "cell_type": "code",
      "source": [
        "y_pred"
      ],
      "metadata": {
        "colab": {
          "base_uri": "https://localhost:8080/"
        },
        "id": "IeQJ1o8dn5-Q",
        "outputId": "71f18d35-1582-46ca-a2ea-bab9cb7445d1"
      },
      "execution_count": 56,
      "outputs": [
        {
          "output_type": "execute_result",
          "data": {
            "text/plain": [
              "array([28,  4, 24, ...,  4,  0, 28])"
            ]
          },
          "metadata": {},
          "execution_count": 56
        }
      ]
    },
    {
      "cell_type": "code",
      "source": [
        "cm = confusion_matrix(y_test, y_pred)\n",
        "accuracy = accuracy_score(y_test, y_pred)"
      ],
      "metadata": {
        "id": "mnS5EnOtn9Hb"
      },
      "execution_count": 57,
      "outputs": []
    },
    {
      "cell_type": "code",
      "source": [
        "print(\"confusion matrix=\", cm)\n",
        "print()\n",
        "print(\"accuracy=\", accuracy*100)"
      ],
      "metadata": {
        "colab": {
          "base_uri": "https://localhost:8080/"
        },
        "id": "gd035mBcoFAd",
        "outputId": "d6b2bb51-ef5e-4c51-b318-3743b7f87cf2"
      },
      "execution_count": 58,
      "outputs": [
        {
          "output_type": "stream",
          "name": "stdout",
          "text": [
            "confusion matrix= [[11  4  5 ...  3  8  8]\n",
            " [ 3  3  5 ...  5  5  7]\n",
            " [ 6  8  5 ...  2  7  2]\n",
            " ...\n",
            " [ 7  4  4 ...  8  5  4]\n",
            " [10  5  6 ...  5  3  1]\n",
            " [ 3  3  5 ...  6  5  8]]\n",
            "\n",
            "accuracy= 3.0\n"
          ]
        }
      ]
    },
    {
      "cell_type": "markdown",
      "source": [
        "# 1. 1. Decision Tree with entropy"
      ],
      "metadata": {
        "id": "87HOkPBqoWyL"
      }
    },
    {
      "cell_type": "code",
      "source": [
        "entropy_classifier = tree.DecisionTreeClassifier(criterion = \"entropy\", random_state = 10)\n",
        "entropy_classifier.fit(x_train, y_train)"
      ],
      "metadata": {
        "colab": {
          "base_uri": "https://localhost:8080/"
        },
        "id": "Cr0oHzCFoTN4",
        "outputId": "ac43d75b-71ca-4452-fc65-9f7a9f134951"
      },
      "execution_count": 45,
      "outputs": [
        {
          "output_type": "execute_result",
          "data": {
            "text/plain": [
              "DecisionTreeClassifier(criterion='entropy', random_state=10)"
            ]
          },
          "metadata": {},
          "execution_count": 45
        }
      ]
    },
    {
      "cell_type": "code",
      "source": [
        "ent_y_pred = entropy_classifier.predict(x_test)"
      ],
      "metadata": {
        "id": "0OnFVZGIo3OQ"
      },
      "execution_count": 46,
      "outputs": []
    },
    {
      "cell_type": "code",
      "source": [
        "cm_entropy = confusion_matrix(y_test, ent_y_pred)"
      ],
      "metadata": {
        "id": "rvtG4C45o8EB"
      },
      "execution_count": 47,
      "outputs": []
    },
    {
      "cell_type": "code",
      "source": [
        "ent_acc = accuracy_score(y_test, ent_y_pred)"
      ],
      "metadata": {
        "id": "q-kYZ16ApFuT"
      },
      "execution_count": 48,
      "outputs": []
    },
    {
      "cell_type": "code",
      "source": [
        "print(\"confusion matrix=\", cm_entropy)\n",
        "print()\n",
        "print(\"accuracy=\",ent_acc*100)"
      ],
      "metadata": {
        "colab": {
          "base_uri": "https://localhost:8080/"
        },
        "id": "YZBN1nB_pKqp",
        "outputId": "78ac0231-1107-4c21-d5b6-457d4d79ab1c"
      },
      "execution_count": 49,
      "outputs": [
        {
          "output_type": "stream",
          "name": "stdout",
          "text": [
            "confusion matrix= [[ 7  7 10 ...  2  6  2]\n",
            " [ 4  5  2 ...  7  9  2]\n",
            " [ 7  6  3 ...  4  3  2]\n",
            " ...\n",
            " [ 3  5  9 ...  7  6  4]\n",
            " [ 7  6  5 ...  5  1 10]\n",
            " [ 4  3  6 ...  5  9  5]]\n",
            "\n",
            "accuracy= 3.1\n"
          ]
        }
      ]
    },
    {
      "cell_type": "markdown",
      "source": [
        "# 2. SVM classifier"
      ],
      "metadata": {
        "id": "KDYJnJ7zp_gk"
      }
    },
    {
      "cell_type": "code",
      "source": [
        "from sklearn import svm"
      ],
      "metadata": {
        "id": "OwFnx78xp-I5"
      },
      "execution_count": 33,
      "outputs": []
    },
    {
      "cell_type": "code",
      "source": [
        "svm_clf = svm.SVC()\n",
        "svm_clf.fit(x_train, y_train)"
      ],
      "metadata": {
        "colab": {
          "base_uri": "https://localhost:8080/"
        },
        "id": "Cgmrogc4qCFn",
        "outputId": "d4aa186c-a643-4aeb-8b57-cee84963084a"
      },
      "execution_count": 38,
      "outputs": [
        {
          "output_type": "stream",
          "name": "stderr",
          "text": [
            "/usr/local/lib/python3.7/dist-packages/sklearn/utils/validation.py:993: DataConversionWarning: A column-vector y was passed when a 1d array was expected. Please change the shape of y to (n_samples, ), for example using ravel().\n",
            "  y = column_or_1d(y, warn=True)\n"
          ]
        },
        {
          "output_type": "execute_result",
          "data": {
            "text/plain": [
              "SVC()"
            ]
          },
          "metadata": {},
          "execution_count": 38
        }
      ]
    },
    {
      "cell_type": "code",
      "source": [
        "svm_y_pred = svm_clf.predict(x_test)"
      ],
      "metadata": {
        "id": "WzDJp3GRqURt"
      },
      "execution_count": 39,
      "outputs": []
    },
    {
      "cell_type": "code",
      "source": [
        "svm_y_pred"
      ],
      "metadata": {
        "colab": {
          "base_uri": "https://localhost:8080/"
        },
        "id": "7MC28lqh3dmU",
        "outputId": "cc5754da-1445-4100-dfbf-0d7dc0f673de"
      },
      "execution_count": 44,
      "outputs": [
        {
          "output_type": "execute_result",
          "data": {
            "text/plain": [
              "array([20, 20, 20, ..., 20, 20, 20])"
            ]
          },
          "metadata": {},
          "execution_count": 44
        }
      ]
    },
    {
      "cell_type": "code",
      "source": [
        "cm_svm = confusion_matrix(y_test, svm_y_pred)\n",
        "svm_acc = accuracy_score(y_test, svm_y_pred)"
      ],
      "metadata": {
        "id": "s8KxvxygqXOx"
      },
      "execution_count": 42,
      "outputs": []
    },
    {
      "cell_type": "code",
      "source": [
        "print(\"confusion matrics=\",cm_svm)\n",
        "print(\"  \")\n",
        "print(\"accuracy=\",svm_acc*100)"
      ],
      "metadata": {
        "colab": {
          "base_uri": "https://localhost:8080/"
        },
        "id": "69NmwAP5qi9b",
        "outputId": "b41bbe40-127c-4e31-bdd2-46bdd755199f"
      },
      "execution_count": 43,
      "outputs": [
        {
          "output_type": "stream",
          "name": "stdout",
          "text": [
            "confusion matrics= [[0 0 0 ... 0 0 0]\n",
            " [0 0 0 ... 0 0 0]\n",
            " [0 0 0 ... 0 0 0]\n",
            " ...\n",
            " [0 0 0 ... 0 0 0]\n",
            " [0 0 0 ... 0 0 0]\n",
            " [0 0 0 ... 0 0 0]]\n",
            "  \n",
            "accuracy= 5.75\n"
          ]
        }
      ]
    },
    {
      "cell_type": "code",
      "source": [
        "def preprocess(data):\n",
        "    # Converting categorical data to numerical data\n",
        "    label_encoder = LabelEncoder()\n",
        "    for i in range(14, 38):\n",
        "        data[:, i] = label_encoder.fit_transform(data[:, i])\n",
        "    data1 = data[:, :14]\n",
        "    normalized_data = Normalizer().fit_transform(data1)\n",
        "    data2 = data[:, 14:]\n",
        "    df1 = np.append(normalized_data, data2, axis=1)\n",
        "    return df1"
      ],
      "metadata": {
        "id": "F-29vJJuarAv"
      },
      "execution_count": null,
      "outputs": []
    },
    {
      "cell_type": "code",
      "source": [
        "import random\n",
        "index = random.randint(0, len(dataset))\n",
        "random_data = dataset.drop(['Suggested Job Role'], axis=1).iloc[index].values.reshape((1, 38))\n",
        "true_value = dataset['Suggested Job Role'].iloc[index]\n",
        "pred_value = svm_clf.predict(preprocess(random_data))\n",
        "last_value = pred_value\n",
        "while(pred_value == last_value):\n",
        "  pred_value = svm_clf.predict(preprocess(random_data))\n",
        "print(pred_value)"
      ],
      "metadata": {
        "id": "OV3aW7U6ae-W"
      },
      "execution_count": null,
      "outputs": []
    },
    {
      "cell_type": "markdown",
      "source": [
        "# 3. XGBOOST"
      ],
      "metadata": {
        "id": "oKvh3wXFq5EQ"
      }
    },
    {
      "cell_type": "code",
      "source": [
        "from xgboost import XGBClassifier"
      ],
      "metadata": {
        "id": "nd2lVlm_q3Ua"
      },
      "execution_count": 69,
      "outputs": []
    },
    {
      "cell_type": "code",
      "source": [
        "xg_xtrain = pd.to_numeric(x_train.values.flatten())"
      ],
      "metadata": {
        "id": "1S9mUbPkrLIm"
      },
      "execution_count": 70,
      "outputs": []
    },
    {
      "cell_type": "code",
      "source": [
        "xg_xtrain = xg_xtrain.reshape((14000,38))"
      ],
      "metadata": {
        "id": "SpR99PB9r_xz"
      },
      "execution_count": 71,
      "outputs": []
    },
    {
      "cell_type": "code",
      "source": [
        "model = XGBClassifier()\n",
        "model.fit(xg_xtrain, y_train)"
      ],
      "metadata": {
        "colab": {
          "base_uri": "https://localhost:8080/"
        },
        "id": "rHHZYXn4q9hW",
        "outputId": "9bd67b71-878f-4fa8-b401-2b604d51e9fb"
      },
      "execution_count": 72,
      "outputs": [
        {
          "output_type": "stream",
          "name": "stderr",
          "text": [
            "/usr/local/lib/python3.7/dist-packages/sklearn/preprocessing/_label.py:98: DataConversionWarning: A column-vector y was passed when a 1d array was expected. Please change the shape of y to (n_samples, ), for example using ravel().\n",
            "  y = column_or_1d(y, warn=True)\n",
            "/usr/local/lib/python3.7/dist-packages/sklearn/preprocessing/_label.py:133: DataConversionWarning: A column-vector y was passed when a 1d array was expected. Please change the shape of y to (n_samples, ), for example using ravel().\n",
            "  y = column_or_1d(y, warn=True)\n"
          ]
        },
        {
          "output_type": "execute_result",
          "data": {
            "text/plain": [
              "XGBClassifier(objective='multi:softprob')"
            ]
          },
          "metadata": {},
          "execution_count": 72
        }
      ]
    },
    {
      "cell_type": "code",
      "source": [
        "x_test.shape"
      ],
      "metadata": {
        "colab": {
          "base_uri": "https://localhost:8080/"
        },
        "id": "DI2hqK0gsiUJ",
        "outputId": "34f2b3e1-31ff-451f-b48c-27de542bed8b"
      },
      "execution_count": 73,
      "outputs": [
        {
          "output_type": "execute_result",
          "data": {
            "text/plain": [
              "(6000, 38)"
            ]
          },
          "metadata": {},
          "execution_count": 73
        }
      ]
    },
    {
      "cell_type": "code",
      "source": [
        "xg_xtest = pd.to_numeric(x_test.values.flatten())"
      ],
      "metadata": {
        "id": "pPyzUouPsbEn"
      },
      "execution_count": 74,
      "outputs": []
    },
    {
      "cell_type": "code",
      "source": [
        "xg_xtest = xg_xtest.reshape((6000,38))"
      ],
      "metadata": {
        "id": "tAgdLevusfLL"
      },
      "execution_count": 75,
      "outputs": []
    },
    {
      "cell_type": "code",
      "source": [
        "xgb_y_pred = model.predict(xg_xtest)"
      ],
      "metadata": {
        "id": "QGH2ScBfsP-Y"
      },
      "execution_count": 76,
      "outputs": []
    },
    {
      "cell_type": "code",
      "source": [
        "xgb_cm = confusion_matrix(y_test, xgb_y_pred)\n",
        "xgb_acc = accuracy_score(y_test, xgb_y_pred)"
      ],
      "metadata": {
        "id": "EtwlgyiZszmm"
      },
      "execution_count": 77,
      "outputs": []
    },
    {
      "cell_type": "code",
      "source": [
        "print(\"confusion matrix=\", xgb_cm)\n",
        "print()\n",
        "print(\"accuracy=\", xgb_acc*100)"
      ],
      "metadata": {
        "colab": {
          "base_uri": "https://localhost:8080/"
        },
        "id": "1BsTg_dws6uE",
        "outputId": "fdc6290d-6bd4-414c-bf03-278104b4b9e8"
      },
      "execution_count": 78,
      "outputs": [
        {
          "output_type": "stream",
          "name": "stdout",
          "text": [
            "confusion matrix= [[4 6 3 ... 0 0 2]\n",
            " [5 4 1 ... 0 5 3]\n",
            " [2 5 0 ... 0 1 0]\n",
            " ...\n",
            " [2 4 0 ... 5 3 2]\n",
            " [1 8 3 ... 2 4 0]\n",
            " [1 3 2 ... 2 4 2]]\n",
            "\n",
            "accuracy= 4.416666666666667\n"
          ]
        }
      ]
    },
    {
      "cell_type": "code",
      "source": [
        "label_list[xgb_y_pred[0]], label_list[y_test.to_numpy()[2][0]]"
      ],
      "metadata": {
        "colab": {
          "base_uri": "https://localhost:8080/"
        },
        "id": "Du06C1sEupsI",
        "outputId": "f4069a29-3857-4af6-9cc6-a1561d83f345"
      },
      "execution_count": 80,
      "outputs": [
        {
          "output_type": "execute_result",
          "data": {
            "text/plain": [
              "('Network Security Administrator', 'E-Commerce Analyst')"
            ]
          },
          "metadata": {},
          "execution_count": 80
        }
      ]
    },
    {
      "cell_type": "code",
      "source": [
        "type(y_test)"
      ],
      "metadata": {
        "colab": {
          "base_uri": "https://localhost:8080/"
        },
        "id": "AcN5q2Jz0fW3",
        "outputId": "1a453007-52be-470f-d011-b93a10145582"
      },
      "execution_count": 81,
      "outputs": [
        {
          "output_type": "execute_result",
          "data": {
            "text/plain": [
              "pandas.core.frame.DataFrame"
            ]
          },
          "metadata": {},
          "execution_count": 81
        }
      ]
    },
    {
      "cell_type": "code",
      "source": [
        "len(xgb_y_pred), len(y_test)"
      ],
      "metadata": {
        "colab": {
          "base_uri": "https://localhost:8080/"
        },
        "id": "H1fRmNB5zV1_",
        "outputId": "c65b8454-0984-49d1-e90c-c0793137f4ad"
      },
      "execution_count": 82,
      "outputs": [
        {
          "output_type": "execute_result",
          "data": {
            "text/plain": [
              "(6000, 6000)"
            ]
          },
          "metadata": {},
          "execution_count": 82
        }
      ]
    },
    {
      "cell_type": "code",
      "source": [
        "true_results = []\n",
        "for i in range(len(y_test)):\n",
        "  if xgb_y_pred[i] == y_test.values[i][0]:\n",
        "    true_results.append(y_test.iloc[[i]].index[0])"
      ],
      "metadata": {
        "id": "LCR5lTmtzmaK"
      },
      "execution_count": 83,
      "outputs": []
    },
    {
      "cell_type": "code",
      "source": [
        "len(true_results)"
      ],
      "metadata": {
        "colab": {
          "base_uri": "https://localhost:8080/"
        },
        "id": "hLQPLQ4j3eJt",
        "outputId": "f498c464-92e2-4e94-c794-d44cca849f7c"
      },
      "execution_count": 84,
      "outputs": [
        {
          "output_type": "execute_result",
          "data": {
            "text/plain": [
              "265"
            ]
          },
          "metadata": {},
          "execution_count": 84
        }
      ]
    },
    {
      "cell_type": "markdown",
      "source": [
        "# 4. K Nearest Neighbours"
      ],
      "metadata": {
        "id": "eadFgU3k52Dr"
      }
    },
    {
      "cell_type": "code",
      "source": [
        "from sklearn.neighbors import KNeighborsClassifier"
      ],
      "metadata": {
        "id": "0ZsY0tV350HP"
      },
      "execution_count": 85,
      "outputs": []
    },
    {
      "cell_type": "code",
      "source": [
        "knn_clf = KNeighborsClassifier()\n",
        "knn_clf.fit(x_train, y_train)"
      ],
      "metadata": {
        "colab": {
          "base_uri": "https://localhost:8080/"
        },
        "id": "P3-RmqZ753vK",
        "outputId": "29847010-c799-4d7a-9ddc-79ebe5630ae1"
      },
      "execution_count": 86,
      "outputs": [
        {
          "output_type": "stream",
          "name": "stderr",
          "text": [
            "/usr/local/lib/python3.7/dist-packages/sklearn/neighbors/_classification.py:198: DataConversionWarning: A column-vector y was passed when a 1d array was expected. Please change the shape of y to (n_samples,), for example using ravel().\n",
            "  return self._fit(X, y)\n"
          ]
        },
        {
          "output_type": "execute_result",
          "data": {
            "text/plain": [
              "KNeighborsClassifier()"
            ]
          },
          "metadata": {},
          "execution_count": 86
        }
      ]
    },
    {
      "cell_type": "code",
      "source": [
        "knn_y_pred = knn_clf.predict(x_test)"
      ],
      "metadata": {
        "id": "1qSAr0Ow6DGj"
      },
      "execution_count": 87,
      "outputs": []
    },
    {
      "cell_type": "code",
      "source": [
        "knn_cm = confusion_matrix(y_test, knn_y_pred)\n",
        "knn_acc = accuracy_score(y_test, knn_y_pred)"
      ],
      "metadata": {
        "id": "X5ycLai86MXt"
      },
      "execution_count": 88,
      "outputs": []
    },
    {
      "cell_type": "code",
      "source": [
        "print(\"confusion matrix=\", knn_cm)\n",
        "print()\n",
        "print(\"accuracy=\", knn_acc*100)"
      ],
      "metadata": {
        "colab": {
          "base_uri": "https://localhost:8080/"
        },
        "id": "OD8fR-PZ6SL9",
        "outputId": "ec23dad8-2b22-42d8-d860-57f0d4015463"
      },
      "execution_count": 89,
      "outputs": [
        {
          "output_type": "stream",
          "name": "stdout",
          "text": [
            "confusion matrix= [[16 25 13 ...  0  1  1]\n",
            " [16 20 21 ...  1  4  0]\n",
            " [20 15 15 ...  0  1  1]\n",
            " ...\n",
            " [19 19 16 ...  0  0  3]\n",
            " [23 18 23 ...  0  1  1]\n",
            " [22 20 19 ...  0  0  1]]\n",
            "\n",
            "accuracy= 3.1166666666666667\n"
          ]
        }
      ]
    },
    {
      "cell_type": "markdown",
      "source": [
        "#5. Random Forest Classifier"
      ],
      "metadata": {
        "id": "_DFmBqI46qJJ"
      }
    },
    {
      "cell_type": "code",
      "source": [
        "from sklearn.ensemble import RandomForestClassifier\n",
        "rfc_classifier = RandomForestClassifier(n_estimators = 10, criterion = 'entropy', random_state = 0)\n",
        "rfc_classifier.fit(x_train, y_train)"
      ],
      "metadata": {
        "colab": {
          "base_uri": "https://localhost:8080/"
        },
        "id": "0QIn9Jzp6skm",
        "outputId": "5b1a5b34-ebde-46ef-97a1-827af2a69021"
      },
      "execution_count": 90,
      "outputs": [
        {
          "output_type": "stream",
          "name": "stderr",
          "text": [
            "/usr/local/lib/python3.7/dist-packages/ipykernel_launcher.py:3: DataConversionWarning: A column-vector y was passed when a 1d array was expected. Please change the shape of y to (n_samples,), for example using ravel().\n",
            "  This is separate from the ipykernel package so we can avoid doing imports until\n"
          ]
        },
        {
          "output_type": "execute_result",
          "data": {
            "text/plain": [
              "RandomForestClassifier(criterion='entropy', n_estimators=10, random_state=0)"
            ]
          },
          "metadata": {},
          "execution_count": 90
        }
      ]
    },
    {
      "cell_type": "code",
      "source": [
        "rfc_y_pred = rfc_classifier.predict(x_test)"
      ],
      "metadata": {
        "id": "XihEXW8P61xa"
      },
      "execution_count": 91,
      "outputs": []
    },
    {
      "cell_type": "code",
      "source": [
        "rfc_cm = confusion_matrix(y_test, rfc_y_pred)\n",
        "rfc_acc = accuracy_score(y_test, rfc_y_pred)"
      ],
      "metadata": {
        "id": "oyxOUcJ47IUE"
      },
      "execution_count": 92,
      "outputs": []
    },
    {
      "cell_type": "code",
      "source": [
        "print(\"confusion matrix=\", rfc_cm)\n",
        "print()\n",
        "print(\"accuracy=\", rfc_acc*100)"
      ],
      "metadata": {
        "colab": {
          "base_uri": "https://localhost:8080/"
        },
        "id": "QGe7zuTC7NpJ",
        "outputId": "385813e6-fec1-4b09-f2a4-b65aa7593e2d"
      },
      "execution_count": 93,
      "outputs": [
        {
          "output_type": "stream",
          "name": "stdout",
          "text": [
            "confusion matrix= [[19 14 10 ...  2  0  1]\n",
            " [13 14 15 ...  4  1  4]\n",
            " [10 13  8 ...  2  7  5]\n",
            " ...\n",
            " [17 11 11 ...  8  0  4]\n",
            " [14 15 13 ...  1  3  3]\n",
            " [15 11  9 ...  5  1  1]]\n",
            "\n",
            "accuracy= 3.183333333333333\n"
          ]
        }
      ]
    },
    {
      "cell_type": "markdown",
      "source": [
        "# Dump Models"
      ],
      "metadata": {
        "id": "ZeOfXPe28Y3J"
      }
    },
    {
      "cell_type": "code",
      "source": [
        "models = [classifier, entropy_classifier, svm_clf, model, knn_clf, rfc_classifier]\n",
        "names = [\"dtc\", \"ent_dtc\", \"svm\", \"xgboost\", \"knn\", \"rfc\"]\n",
        "import pickle\n",
        "for i in range(len(models)):\n",
        "  print(f\"Dumping {names[i]} model\")\n",
        "  pickle.dump(models[i], open(names[i] + \".pkl\", \"wb\"))"
      ],
      "metadata": {
        "colab": {
          "base_uri": "https://localhost:8080/"
        },
        "id": "L_0-LxED8YWp",
        "outputId": "9bfb7dee-f347-4916-d8d9-59cbdf6866e1"
      },
      "execution_count": null,
      "outputs": [
        {
          "output_type": "stream",
          "name": "stdout",
          "text": [
            "Dumping dtc model\n",
            "Dumping ent_dtc model\n",
            "Dumping svm model\n",
            "Dumping xgboost model\n",
            "Dumping knn model\n",
            "Dumping rfc model\n"
          ]
        }
      ]
    },
    {
      "cell_type": "code",
      "source": [
        "subjects = dataset[\"Interested subjects\"].unique()"
      ],
      "metadata": {
        "id": "2n_yzqUT9rNK"
      },
      "execution_count": null,
      "outputs": []
    },
    {
      "cell_type": "code",
      "source": [
        "subjects"
      ],
      "metadata": {
        "colab": {
          "base_uri": "https://localhost:8080/"
        },
        "id": "JYUMX91eALLk",
        "outputId": "1867b84e-4dd2-4864-f6ae-8de97ffc05fa"
      },
      "execution_count": null,
      "outputs": [
        {
          "output_type": "execute_result",
          "data": {
            "text/plain": [
              "array(['cloud computing', 'networks', 'hacking', 'Computer Architecture',\n",
              "       'programming', 'parallel computing', 'IOT', 'data engineering',\n",
              "       'Software Engineering', 'Management'], dtype=object)"
            ]
          },
          "metadata": {},
          "execution_count": 67
        }
      ]
    }
  ]
}