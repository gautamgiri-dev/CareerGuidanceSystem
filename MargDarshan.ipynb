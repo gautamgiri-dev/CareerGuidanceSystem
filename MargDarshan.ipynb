{
  "nbformat": 4,
  "nbformat_minor": 0,
  "metadata": {
    "colab": {
      "name": "MargDarshan.ipynb",
      "provenance": []
    },
    "kernelspec": {
      "name": "python3",
      "display_name": "Python 3"
    },
    "language_info": {
      "name": "python"
    },
    "accelerator": "GPU"
  },
  "cells": [
    {
      "cell_type": "markdown",
      "source": [
        "#IMPORT LIBRARIES"
      ],
      "metadata": {
        "id": "ug6B6ik2fH5O"
      }
    },
    {
      "cell_type": "code",
      "source": [
        "import requests\n",
        "import pandas as pd\n",
        "import numpy as np\n",
        "from sklearn import decomposition\n",
        "import matplotlib.pyplot as plt\n",
        "import os"
      ],
      "metadata": {
        "id": "MA-pfA1HfHjD"
      },
      "execution_count": null,
      "outputs": []
    },
    {
      "cell_type": "markdown",
      "source": [
        "#DATA COLLECTION"
      ],
      "metadata": {
        "id": "kljGRdp0fDZF"
      }
    },
    {
      "cell_type": "code",
      "source": [
        "DATASET_URI = \"https://raw.githubusercontent.com/KLGLUG/student-career-area-prediction-using-machine-learning/master/Project%20Code/roo_data.csv\"\n",
        "\n",
        "open(\"./dataset.csv\", \"wb\").write(requests.get(DATASET_URI).content)\n",
        "print(\"Dataset downloaded.\")"
      ],
      "metadata": {
        "colab": {
          "base_uri": "https://localhost:8080/"
        },
        "id": "3RvhnwYSfYTU",
        "outputId": "246e8f58-2caf-449e-ea69-bb3f2c5baa16"
      },
      "execution_count": null,
      "outputs": [
        {
          "output_type": "stream",
          "name": "stdout",
          "text": [
            "Dataset downloaded.\n"
          ]
        }
      ]
    },
    {
      "cell_type": "markdown",
      "source": [
        "#DATA PREPROCESSING"
      ],
      "metadata": {
        "id": "yFxUHJZwfz05"
      }
    },
    {
      "cell_type": "code",
      "source": [
        "dataset = pd.read_csv(\"./dataset.csv\")\n",
        "dataset.head()"
      ],
      "metadata": {
        "colab": {
          "base_uri": "https://localhost:8080/",
          "height": 490
        },
        "id": "TlswB7o7fzSp",
        "outputId": "3fd2d1ae-9c61-4652-b7f5-dd3f66dc68ab"
      },
      "execution_count": null,
      "outputs": [
        {
          "output_type": "execute_result",
          "data": {
            "text/plain": [
              "   Acedamic percentage in Operating Systems  percentage in Algorithms  \\\n",
              "0                                        69                        63   \n",
              "1                                        78                        62   \n",
              "2                                        71                        86   \n",
              "3                                        76                        87   \n",
              "4                                        92                        62   \n",
              "\n",
              "   Percentage in Programming Concepts  Percentage in Software Engineering  \\\n",
              "0                                  78                                  87   \n",
              "1                                  73                                  60   \n",
              "2                                  91                                  87   \n",
              "3                                  60                                  84   \n",
              "4                                  90                                  67   \n",
              "\n",
              "   Percentage in Computer Networks  Percentage in Electronics Subjects  \\\n",
              "0                               94                                  94   \n",
              "1                               71                                  70   \n",
              "2                               61                                  81   \n",
              "3                               89                                  73   \n",
              "4                               71                                  89   \n",
              "\n",
              "   Percentage in Computer Architecture  Percentage in Mathematics  \\\n",
              "0                                   87                         84   \n",
              "1                                   73                         84   \n",
              "2                                   72                         72   \n",
              "3                                   62                         88   \n",
              "4                                   73                         71   \n",
              "\n",
              "   Percentage in Communication skills  Hours working per day  ...  \\\n",
              "0                                  61                      9  ...   \n",
              "1                                  91                     12  ...   \n",
              "2                                  94                     11  ...   \n",
              "3                                  69                      7  ...   \n",
              "4                                  73                      4  ...   \n",
              "\n",
              "   Interested Type of Books  Salary Range Expected  In a Realtionship?  \\\n",
              "0              Prayer books                 salary                  no   \n",
              "1                 Childrens                 salary                 yes   \n",
              "2                    Travel                   Work                  no   \n",
              "3                   Romance                   Work                 yes   \n",
              "4                 Cookbooks                 salary                  no   \n",
              "\n",
              "   Gentle or Tuff behaviour? Management or Technical Salary/work  \\\n",
              "0                   stubborn              Management      salary   \n",
              "1                     gentle               Technical      salary   \n",
              "2                   stubborn              Management        work   \n",
              "3                     gentle              Management        work   \n",
              "4                   stubborn              Management        work   \n",
              "\n",
              "  hard/smart worker worked in teams ever? Introvert  \\\n",
              "0       hard worker                   yes        no   \n",
              "1       hard worker                    no       yes   \n",
              "2       hard worker                    no       yes   \n",
              "3      smart worker                   yes       yes   \n",
              "4       hard worker                   yes       yes   \n",
              "\n",
              "               Suggested Job Role  \n",
              "0              Database Developer  \n",
              "1            Portal Administrator  \n",
              "2            Portal Administrator  \n",
              "3  Systems Security Administrator  \n",
              "4        Business Systems Analyst  \n",
              "\n",
              "[5 rows x 39 columns]"
            ],
            "text/html": [
              "\n",
              "  <div id=\"df-2c9694e0-8863-4ed8-8a6d-5cc8a0d3353b\">\n",
              "    <div class=\"colab-df-container\">\n",
              "      <div>\n",
              "<style scoped>\n",
              "    .dataframe tbody tr th:only-of-type {\n",
              "        vertical-align: middle;\n",
              "    }\n",
              "\n",
              "    .dataframe tbody tr th {\n",
              "        vertical-align: top;\n",
              "    }\n",
              "\n",
              "    .dataframe thead th {\n",
              "        text-align: right;\n",
              "    }\n",
              "</style>\n",
              "<table border=\"1\" class=\"dataframe\">\n",
              "  <thead>\n",
              "    <tr style=\"text-align: right;\">\n",
              "      <th></th>\n",
              "      <th>Acedamic percentage in Operating Systems</th>\n",
              "      <th>percentage in Algorithms</th>\n",
              "      <th>Percentage in Programming Concepts</th>\n",
              "      <th>Percentage in Software Engineering</th>\n",
              "      <th>Percentage in Computer Networks</th>\n",
              "      <th>Percentage in Electronics Subjects</th>\n",
              "      <th>Percentage in Computer Architecture</th>\n",
              "      <th>Percentage in Mathematics</th>\n",
              "      <th>Percentage in Communication skills</th>\n",
              "      <th>Hours working per day</th>\n",
              "      <th>...</th>\n",
              "      <th>Interested Type of Books</th>\n",
              "      <th>Salary Range Expected</th>\n",
              "      <th>In a Realtionship?</th>\n",
              "      <th>Gentle or Tuff behaviour?</th>\n",
              "      <th>Management or Technical</th>\n",
              "      <th>Salary/work</th>\n",
              "      <th>hard/smart worker</th>\n",
              "      <th>worked in teams ever?</th>\n",
              "      <th>Introvert</th>\n",
              "      <th>Suggested Job Role</th>\n",
              "    </tr>\n",
              "  </thead>\n",
              "  <tbody>\n",
              "    <tr>\n",
              "      <th>0</th>\n",
              "      <td>69</td>\n",
              "      <td>63</td>\n",
              "      <td>78</td>\n",
              "      <td>87</td>\n",
              "      <td>94</td>\n",
              "      <td>94</td>\n",
              "      <td>87</td>\n",
              "      <td>84</td>\n",
              "      <td>61</td>\n",
              "      <td>9</td>\n",
              "      <td>...</td>\n",
              "      <td>Prayer books</td>\n",
              "      <td>salary</td>\n",
              "      <td>no</td>\n",
              "      <td>stubborn</td>\n",
              "      <td>Management</td>\n",
              "      <td>salary</td>\n",
              "      <td>hard worker</td>\n",
              "      <td>yes</td>\n",
              "      <td>no</td>\n",
              "      <td>Database Developer</td>\n",
              "    </tr>\n",
              "    <tr>\n",
              "      <th>1</th>\n",
              "      <td>78</td>\n",
              "      <td>62</td>\n",
              "      <td>73</td>\n",
              "      <td>60</td>\n",
              "      <td>71</td>\n",
              "      <td>70</td>\n",
              "      <td>73</td>\n",
              "      <td>84</td>\n",
              "      <td>91</td>\n",
              "      <td>12</td>\n",
              "      <td>...</td>\n",
              "      <td>Childrens</td>\n",
              "      <td>salary</td>\n",
              "      <td>yes</td>\n",
              "      <td>gentle</td>\n",
              "      <td>Technical</td>\n",
              "      <td>salary</td>\n",
              "      <td>hard worker</td>\n",
              "      <td>no</td>\n",
              "      <td>yes</td>\n",
              "      <td>Portal Administrator</td>\n",
              "    </tr>\n",
              "    <tr>\n",
              "      <th>2</th>\n",
              "      <td>71</td>\n",
              "      <td>86</td>\n",
              "      <td>91</td>\n",
              "      <td>87</td>\n",
              "      <td>61</td>\n",
              "      <td>81</td>\n",
              "      <td>72</td>\n",
              "      <td>72</td>\n",
              "      <td>94</td>\n",
              "      <td>11</td>\n",
              "      <td>...</td>\n",
              "      <td>Travel</td>\n",
              "      <td>Work</td>\n",
              "      <td>no</td>\n",
              "      <td>stubborn</td>\n",
              "      <td>Management</td>\n",
              "      <td>work</td>\n",
              "      <td>hard worker</td>\n",
              "      <td>no</td>\n",
              "      <td>yes</td>\n",
              "      <td>Portal Administrator</td>\n",
              "    </tr>\n",
              "    <tr>\n",
              "      <th>3</th>\n",
              "      <td>76</td>\n",
              "      <td>87</td>\n",
              "      <td>60</td>\n",
              "      <td>84</td>\n",
              "      <td>89</td>\n",
              "      <td>73</td>\n",
              "      <td>62</td>\n",
              "      <td>88</td>\n",
              "      <td>69</td>\n",
              "      <td>7</td>\n",
              "      <td>...</td>\n",
              "      <td>Romance</td>\n",
              "      <td>Work</td>\n",
              "      <td>yes</td>\n",
              "      <td>gentle</td>\n",
              "      <td>Management</td>\n",
              "      <td>work</td>\n",
              "      <td>smart worker</td>\n",
              "      <td>yes</td>\n",
              "      <td>yes</td>\n",
              "      <td>Systems Security Administrator</td>\n",
              "    </tr>\n",
              "    <tr>\n",
              "      <th>4</th>\n",
              "      <td>92</td>\n",
              "      <td>62</td>\n",
              "      <td>90</td>\n",
              "      <td>67</td>\n",
              "      <td>71</td>\n",
              "      <td>89</td>\n",
              "      <td>73</td>\n",
              "      <td>71</td>\n",
              "      <td>73</td>\n",
              "      <td>4</td>\n",
              "      <td>...</td>\n",
              "      <td>Cookbooks</td>\n",
              "      <td>salary</td>\n",
              "      <td>no</td>\n",
              "      <td>stubborn</td>\n",
              "      <td>Management</td>\n",
              "      <td>work</td>\n",
              "      <td>hard worker</td>\n",
              "      <td>yes</td>\n",
              "      <td>yes</td>\n",
              "      <td>Business Systems Analyst</td>\n",
              "    </tr>\n",
              "  </tbody>\n",
              "</table>\n",
              "<p>5 rows × 39 columns</p>\n",
              "</div>\n",
              "      <button class=\"colab-df-convert\" onclick=\"convertToInteractive('df-2c9694e0-8863-4ed8-8a6d-5cc8a0d3353b')\"\n",
              "              title=\"Convert this dataframe to an interactive table.\"\n",
              "              style=\"display:none;\">\n",
              "        \n",
              "  <svg xmlns=\"http://www.w3.org/2000/svg\" height=\"24px\"viewBox=\"0 0 24 24\"\n",
              "       width=\"24px\">\n",
              "    <path d=\"M0 0h24v24H0V0z\" fill=\"none\"/>\n",
              "    <path d=\"M18.56 5.44l.94 2.06.94-2.06 2.06-.94-2.06-.94-.94-2.06-.94 2.06-2.06.94zm-11 1L8.5 8.5l.94-2.06 2.06-.94-2.06-.94L8.5 2.5l-.94 2.06-2.06.94zm10 10l.94 2.06.94-2.06 2.06-.94-2.06-.94-.94-2.06-.94 2.06-2.06.94z\"/><path d=\"M17.41 7.96l-1.37-1.37c-.4-.4-.92-.59-1.43-.59-.52 0-1.04.2-1.43.59L10.3 9.45l-7.72 7.72c-.78.78-.78 2.05 0 2.83L4 21.41c.39.39.9.59 1.41.59.51 0 1.02-.2 1.41-.59l7.78-7.78 2.81-2.81c.8-.78.8-2.07 0-2.86zM5.41 20L4 18.59l7.72-7.72 1.47 1.35L5.41 20z\"/>\n",
              "  </svg>\n",
              "      </button>\n",
              "      \n",
              "  <style>\n",
              "    .colab-df-container {\n",
              "      display:flex;\n",
              "      flex-wrap:wrap;\n",
              "      gap: 12px;\n",
              "    }\n",
              "\n",
              "    .colab-df-convert {\n",
              "      background-color: #E8F0FE;\n",
              "      border: none;\n",
              "      border-radius: 50%;\n",
              "      cursor: pointer;\n",
              "      display: none;\n",
              "      fill: #1967D2;\n",
              "      height: 32px;\n",
              "      padding: 0 0 0 0;\n",
              "      width: 32px;\n",
              "    }\n",
              "\n",
              "    .colab-df-convert:hover {\n",
              "      background-color: #E2EBFA;\n",
              "      box-shadow: 0px 1px 2px rgba(60, 64, 67, 0.3), 0px 1px 3px 1px rgba(60, 64, 67, 0.15);\n",
              "      fill: #174EA6;\n",
              "    }\n",
              "\n",
              "    [theme=dark] .colab-df-convert {\n",
              "      background-color: #3B4455;\n",
              "      fill: #D2E3FC;\n",
              "    }\n",
              "\n",
              "    [theme=dark] .colab-df-convert:hover {\n",
              "      background-color: #434B5C;\n",
              "      box-shadow: 0px 1px 3px 1px rgba(0, 0, 0, 0.15);\n",
              "      filter: drop-shadow(0px 1px 2px rgba(0, 0, 0, 0.3));\n",
              "      fill: #FFFFFF;\n",
              "    }\n",
              "  </style>\n",
              "\n",
              "      <script>\n",
              "        const buttonEl =\n",
              "          document.querySelector('#df-2c9694e0-8863-4ed8-8a6d-5cc8a0d3353b button.colab-df-convert');\n",
              "        buttonEl.style.display =\n",
              "          google.colab.kernel.accessAllowed ? 'block' : 'none';\n",
              "\n",
              "        async function convertToInteractive(key) {\n",
              "          const element = document.querySelector('#df-2c9694e0-8863-4ed8-8a6d-5cc8a0d3353b');\n",
              "          const dataTable =\n",
              "            await google.colab.kernel.invokeFunction('convertToInteractive',\n",
              "                                                     [key], {});\n",
              "          if (!dataTable) return;\n",
              "\n",
              "          const docLinkHtml = 'Like what you see? Visit the ' +\n",
              "            '<a target=\"_blank\" href=https://colab.research.google.com/notebooks/data_table.ipynb>data table notebook</a>'\n",
              "            + ' to learn more about interactive tables.';\n",
              "          element.innerHTML = '';\n",
              "          dataTable['output_type'] = 'display_data';\n",
              "          await google.colab.output.renderOutput(dataTable, element);\n",
              "          const docLink = document.createElement('div');\n",
              "          docLink.innerHTML = docLinkHtml;\n",
              "          element.appendChild(docLink);\n",
              "        }\n",
              "      </script>\n",
              "    </div>\n",
              "  </div>\n",
              "  "
            ]
          },
          "metadata": {},
          "execution_count": 3
        }
      ]
    },
    {
      "cell_type": "code",
      "source": [
        "len(dataset)"
      ],
      "metadata": {
        "colab": {
          "base_uri": "https://localhost:8080/"
        },
        "id": "ioQrk3nQgFjM",
        "outputId": "88b6d10c-a74f-4c57-ef5c-990cd5ef7e6b"
      },
      "execution_count": null,
      "outputs": [
        {
          "output_type": "execute_result",
          "data": {
            "text/plain": [
              "20000"
            ]
          },
          "metadata": {},
          "execution_count": 4
        }
      ]
    },
    {
      "cell_type": "code",
      "source": [
        "data = dataset.iloc[:,:-1].values\n",
        "label = dataset.iloc[:,-1].values\n",
        "len(data[0]) # 38 columns"
      ],
      "metadata": {
        "colab": {
          "base_uri": "https://localhost:8080/"
        },
        "id": "aiOgImavgVey",
        "outputId": "ba6e33f0-8605-49d2-966b-aa37cb09962a"
      },
      "execution_count": null,
      "outputs": [
        {
          "output_type": "execute_result",
          "data": {
            "text/plain": [
              "38"
            ]
          },
          "metadata": {},
          "execution_count": 5
        }
      ]
    },
    {
      "cell_type": "code",
      "source": [
        "len(label)"
      ],
      "metadata": {
        "colab": {
          "base_uri": "https://localhost:8080/"
        },
        "id": "5hi_0OdevHT7",
        "outputId": "2ae7d63b-8edf-4ac5-fa9a-2443cb367d39"
      },
      "execution_count": null,
      "outputs": [
        {
          "output_type": "execute_result",
          "data": {
            "text/plain": [
              "20000"
            ]
          },
          "metadata": {},
          "execution_count": 86
        }
      ]
    },
    {
      "cell_type": "markdown",
      "source": [
        "### One Hot Encoding"
      ],
      "metadata": {
        "id": "WSqZ-rn0g5lU"
      }
    },
    {
      "cell_type": "code",
      "source": [
        "from sklearn.preprocessing import LabelEncoder, OneHotEncoder"
      ],
      "metadata": {
        "id": "P7s5sSoRg4ND"
      },
      "execution_count": null,
      "outputs": []
    },
    {
      "cell_type": "code",
      "source": [
        "labelencoder = LabelEncoder()"
      ],
      "metadata": {
        "id": "UdDzYwORhDE3"
      },
      "execution_count": null,
      "outputs": []
    },
    {
      "cell_type": "code",
      "source": [
        "for i in range(14,38):\n",
        "  data[:,i] = labelencoder.fit_transform(data[:,i])\n",
        "\n",
        "data[:5]"
      ],
      "metadata": {
        "colab": {
          "base_uri": "https://localhost:8080/"
        },
        "id": "v63pO4tVhJ4k",
        "outputId": "ade6c759-3c0f-43f3-8d4c-67606210f148"
      },
      "execution_count": null,
      "outputs": [
        {
          "output_type": "execute_result",
          "data": {
            "text/plain": [
              "array([[69, 63, 78, 87, 94, 94, 87, 84, 61, 9, 4, 0, 4, 8, 1, 1, 1, 8, 0,\n",
              "        0, 1, 0, 0, 4, 4, 0, 8, 0, 0, 21, 1, 0, 1, 0, 0, 0, 1, 0],\n",
              "       [78, 62, 73, 60, 71, 70, 73, 84, 91, 12, 7, 1, 2, 3, 1, 0, 1, 5,\n",
              "        2, 0, 0, 2, 1, 7, 0, 1, 4, 1, 1, 5, 1, 1, 0, 1, 0, 0, 0, 1],\n",
              "       [71, 86, 91, 87, 61, 81, 72, 72, 94, 11, 1, 4, 1, 3, 1, 0, 1, 0,\n",
              "        7, 0, 1, 2, 0, 6, 2, 0, 5, 1, 1, 29, 0, 0, 1, 0, 1, 0, 0, 1],\n",
              "       [76, 87, 60, 84, 89, 73, 62, 88, 69, 7, 1, 1, 2, 5, 0, 1, 0, 6, 1,\n",
              "        1, 0, 1, 0, 7, 5, 0, 7, 0, 0, 23, 0, 1, 0, 0, 1, 1, 1, 1],\n",
              "       [92, 62, 90, 67, 71, 89, 73, 71, 73, 4, 5, 4, 6, 3, 0, 0, 0, 0, 0,\n",
              "        0, 0, 2, 0, 0, 5, 0, 9, 0, 1, 7, 1, 0, 1, 0, 1, 0, 1, 1]],\n",
              "      dtype=object)"
            ]
          },
          "metadata": {},
          "execution_count": 19
        }
      ]
    },
    {
      "cell_type": "code",
      "source": [
        "from sklearn.preprocessing import Normalizer"
      ],
      "metadata": {
        "id": "Oaugzn1WhvmW"
      },
      "execution_count": null,
      "outputs": []
    },
    {
      "cell_type": "code",
      "source": [
        "data1 = data[:,:14]"
      ],
      "metadata": {
        "id": "o7jz7kywhyuR"
      },
      "execution_count": null,
      "outputs": []
    },
    {
      "cell_type": "code",
      "source": [
        "normalized_data = Normalizer().fit_transform(data1)\n",
        "normalized_data.shape"
      ],
      "metadata": {
        "colab": {
          "base_uri": "https://localhost:8080/"
        },
        "id": "zRCAI0nsh001",
        "outputId": "90c64aac-ac04-4fdb-b6da-a9b4e83dd198"
      },
      "execution_count": null,
      "outputs": [
        {
          "output_type": "execute_result",
          "data": {
            "text/plain": [
              "(20000, 14)"
            ]
          },
          "metadata": {},
          "execution_count": 23
        }
      ]
    },
    {
      "cell_type": "code",
      "source": [
        "data2 = data[:, 14:]\n",
        "data2.shape"
      ],
      "metadata": {
        "colab": {
          "base_uri": "https://localhost:8080/"
        },
        "id": "E8L3ceLdh__8",
        "outputId": "96230836-d225-412b-f773-2710be635dff"
      },
      "execution_count": null,
      "outputs": [
        {
          "output_type": "execute_result",
          "data": {
            "text/plain": [
              "(20000, 24)"
            ]
          },
          "metadata": {},
          "execution_count": 24
        }
      ]
    },
    {
      "cell_type": "code",
      "source": [
        "df1 = np.append(normalized_data, data2, axis=1)\n",
        "df1.shape"
      ],
      "metadata": {
        "colab": {
          "base_uri": "https://localhost:8080/"
        },
        "id": "mpsHjco1iKQX",
        "outputId": "72d52eae-f785-49ee-f43a-8c996ce73833"
      },
      "execution_count": null,
      "outputs": [
        {
          "output_type": "execute_result",
          "data": {
            "text/plain": [
              "(20000, 38)"
            ]
          },
          "metadata": {},
          "execution_count": 25
        }
      ]
    },
    {
      "cell_type": "markdown",
      "source": [
        "## Adding readable headers"
      ],
      "metadata": {
        "id": "77z6mMVAiXi2"
      }
    },
    {
      "cell_type": "code",
      "source": [
        "headers = ['Acedamic percentage in Operating Systems', 'percentage in Algorithms',\n",
        "       'Percentage in Programming Concepts',\n",
        "       'Percentage in Software Engineering', 'Percentage in Computer Networks',\n",
        "       'Percentage in Electronics Subjects',\n",
        "       'Percentage in Computer Architecture', 'Percentage in Mathematics',\n",
        "       'Percentage in Communication skills', 'Hours working per day',\n",
        "       'Logical quotient rating', 'hackathons', 'coding skills rating',\n",
        "       'public speaking points', 'can work long time before system?',\n",
        "       'self-learning capability?', 'Extra-courses did', 'certifications',\n",
        "       'workshops', 'talenttests taken?', 'olympiads',\n",
        "       'reading and writing skills', 'memory capability score',\n",
        "       'Interested subjects', 'interested career area ', 'Job/Higher Studies?',\n",
        "       'Type of company want to settle in?',\n",
        "       'Taken inputs from seniors or elders', 'interested in games',\n",
        "       'Interested Type of Books', 'Salary Range Expected',\n",
        "       'In a Realtionship?', 'Gentle or Tuff behaviour?',\n",
        "       'Management or Technical', 'Salary/work', 'hard/smart worker',\n",
        "       'worked in teams ever?', 'Introvert']"
      ],
      "metadata": {
        "id": "w_BEl3_3iV34"
      },
      "execution_count": null,
      "outputs": []
    },
    {
      "cell_type": "code",
      "source": [
        "x1 = pd.DataFrame(df1, columns=headers)"
      ],
      "metadata": {
        "id": "ZJaU82nmicfC"
      },
      "execution_count": null,
      "outputs": []
    },
    {
      "cell_type": "code",
      "source": [
        "x1.head()"
      ],
      "metadata": {
        "colab": {
          "base_uri": "https://localhost:8080/",
          "height": 369
        },
        "id": "7qs_5-ewig4t",
        "outputId": "2fb8a106-5713-4758-eb64-b5fd1977d0dc"
      },
      "execution_count": null,
      "outputs": [
        {
          "output_type": "execute_result",
          "data": {
            "text/plain": [
              "  Acedamic percentage in Operating Systems percentage in Algorithms  \\\n",
              "0                                  0.28509                 0.260299   \n",
              "1                                  0.34998                 0.278189   \n",
              "2                                 0.295012                 0.357339   \n",
              "3                                 0.328025                 0.375503   \n",
              "4                                 0.397157                 0.267649   \n",
              "\n",
              "  Percentage in Programming Concepts Percentage in Software Engineering  \\\n",
              "0                           0.322276                           0.359461   \n",
              "1                           0.327545                           0.269215   \n",
              "2                           0.378115                           0.361494   \n",
              "3                           0.258967                           0.362554   \n",
              "4                           0.388523                           0.289234   \n",
              "\n",
              "  Percentage in Computer Networks Percentage in Electronics Subjects  \\\n",
              "0                        0.388383                           0.388383   \n",
              "1                        0.318571                           0.314085   \n",
              "2                        0.253461                           0.336563   \n",
              "3                        0.384135                           0.315077   \n",
              "4                        0.306502                           0.384206   \n",
              "\n",
              "  Percentage in Computer Architecture Percentage in Mathematics  \\\n",
              "0                            0.359461                  0.347066   \n",
              "1                            0.327545                  0.376901   \n",
              "2                            0.299168                  0.299168   \n",
              "3                              0.2676                  0.379819   \n",
              "4                            0.315136                  0.306502   \n",
              "\n",
              "  Percentage in Communication skills Hours working per day  ...  \\\n",
              "0                           0.252036              0.037186  ...   \n",
              "1                            0.40831              0.053843  ...   \n",
              "2                            0.39058              0.045706  ...   \n",
              "3                           0.297812              0.030213  ...   \n",
              "4                           0.315136              0.017268  ...   \n",
              "\n",
              "  interested in games Interested Type of Books Salary Range Expected  \\\n",
              "0                   0                       21                     1   \n",
              "1                   1                        5                     1   \n",
              "2                   1                       29                     0   \n",
              "3                   0                       23                     0   \n",
              "4                   1                        7                     1   \n",
              "\n",
              "  In a Realtionship? Gentle or Tuff behaviour? Management or Technical  \\\n",
              "0                  0                         1                       0   \n",
              "1                  1                         0                       1   \n",
              "2                  0                         1                       0   \n",
              "3                  1                         0                       0   \n",
              "4                  0                         1                       0   \n",
              "\n",
              "  Salary/work hard/smart worker worked in teams ever? Introvert  \n",
              "0           0                 0                     1         0  \n",
              "1           0                 0                     0         1  \n",
              "2           1                 0                     0         1  \n",
              "3           1                 1                     1         1  \n",
              "4           1                 0                     1         1  \n",
              "\n",
              "[5 rows x 38 columns]"
            ],
            "text/html": [
              "\n",
              "  <div id=\"df-a90f680e-1eb4-4001-9a40-115033045d1a\">\n",
              "    <div class=\"colab-df-container\">\n",
              "      <div>\n",
              "<style scoped>\n",
              "    .dataframe tbody tr th:only-of-type {\n",
              "        vertical-align: middle;\n",
              "    }\n",
              "\n",
              "    .dataframe tbody tr th {\n",
              "        vertical-align: top;\n",
              "    }\n",
              "\n",
              "    .dataframe thead th {\n",
              "        text-align: right;\n",
              "    }\n",
              "</style>\n",
              "<table border=\"1\" class=\"dataframe\">\n",
              "  <thead>\n",
              "    <tr style=\"text-align: right;\">\n",
              "      <th></th>\n",
              "      <th>Acedamic percentage in Operating Systems</th>\n",
              "      <th>percentage in Algorithms</th>\n",
              "      <th>Percentage in Programming Concepts</th>\n",
              "      <th>Percentage in Software Engineering</th>\n",
              "      <th>Percentage in Computer Networks</th>\n",
              "      <th>Percentage in Electronics Subjects</th>\n",
              "      <th>Percentage in Computer Architecture</th>\n",
              "      <th>Percentage in Mathematics</th>\n",
              "      <th>Percentage in Communication skills</th>\n",
              "      <th>Hours working per day</th>\n",
              "      <th>...</th>\n",
              "      <th>interested in games</th>\n",
              "      <th>Interested Type of Books</th>\n",
              "      <th>Salary Range Expected</th>\n",
              "      <th>In a Realtionship?</th>\n",
              "      <th>Gentle or Tuff behaviour?</th>\n",
              "      <th>Management or Technical</th>\n",
              "      <th>Salary/work</th>\n",
              "      <th>hard/smart worker</th>\n",
              "      <th>worked in teams ever?</th>\n",
              "      <th>Introvert</th>\n",
              "    </tr>\n",
              "  </thead>\n",
              "  <tbody>\n",
              "    <tr>\n",
              "      <th>0</th>\n",
              "      <td>0.28509</td>\n",
              "      <td>0.260299</td>\n",
              "      <td>0.322276</td>\n",
              "      <td>0.359461</td>\n",
              "      <td>0.388383</td>\n",
              "      <td>0.388383</td>\n",
              "      <td>0.359461</td>\n",
              "      <td>0.347066</td>\n",
              "      <td>0.252036</td>\n",
              "      <td>0.037186</td>\n",
              "      <td>...</td>\n",
              "      <td>0</td>\n",
              "      <td>21</td>\n",
              "      <td>1</td>\n",
              "      <td>0</td>\n",
              "      <td>1</td>\n",
              "      <td>0</td>\n",
              "      <td>0</td>\n",
              "      <td>0</td>\n",
              "      <td>1</td>\n",
              "      <td>0</td>\n",
              "    </tr>\n",
              "    <tr>\n",
              "      <th>1</th>\n",
              "      <td>0.34998</td>\n",
              "      <td>0.278189</td>\n",
              "      <td>0.327545</td>\n",
              "      <td>0.269215</td>\n",
              "      <td>0.318571</td>\n",
              "      <td>0.314085</td>\n",
              "      <td>0.327545</td>\n",
              "      <td>0.376901</td>\n",
              "      <td>0.40831</td>\n",
              "      <td>0.053843</td>\n",
              "      <td>...</td>\n",
              "      <td>1</td>\n",
              "      <td>5</td>\n",
              "      <td>1</td>\n",
              "      <td>1</td>\n",
              "      <td>0</td>\n",
              "      <td>1</td>\n",
              "      <td>0</td>\n",
              "      <td>0</td>\n",
              "      <td>0</td>\n",
              "      <td>1</td>\n",
              "    </tr>\n",
              "    <tr>\n",
              "      <th>2</th>\n",
              "      <td>0.295012</td>\n",
              "      <td>0.357339</td>\n",
              "      <td>0.378115</td>\n",
              "      <td>0.361494</td>\n",
              "      <td>0.253461</td>\n",
              "      <td>0.336563</td>\n",
              "      <td>0.299168</td>\n",
              "      <td>0.299168</td>\n",
              "      <td>0.39058</td>\n",
              "      <td>0.045706</td>\n",
              "      <td>...</td>\n",
              "      <td>1</td>\n",
              "      <td>29</td>\n",
              "      <td>0</td>\n",
              "      <td>0</td>\n",
              "      <td>1</td>\n",
              "      <td>0</td>\n",
              "      <td>1</td>\n",
              "      <td>0</td>\n",
              "      <td>0</td>\n",
              "      <td>1</td>\n",
              "    </tr>\n",
              "    <tr>\n",
              "      <th>3</th>\n",
              "      <td>0.328025</td>\n",
              "      <td>0.375503</td>\n",
              "      <td>0.258967</td>\n",
              "      <td>0.362554</td>\n",
              "      <td>0.384135</td>\n",
              "      <td>0.315077</td>\n",
              "      <td>0.2676</td>\n",
              "      <td>0.379819</td>\n",
              "      <td>0.297812</td>\n",
              "      <td>0.030213</td>\n",
              "      <td>...</td>\n",
              "      <td>0</td>\n",
              "      <td>23</td>\n",
              "      <td>0</td>\n",
              "      <td>1</td>\n",
              "      <td>0</td>\n",
              "      <td>0</td>\n",
              "      <td>1</td>\n",
              "      <td>1</td>\n",
              "      <td>1</td>\n",
              "      <td>1</td>\n",
              "    </tr>\n",
              "    <tr>\n",
              "      <th>4</th>\n",
              "      <td>0.397157</td>\n",
              "      <td>0.267649</td>\n",
              "      <td>0.388523</td>\n",
              "      <td>0.289234</td>\n",
              "      <td>0.306502</td>\n",
              "      <td>0.384206</td>\n",
              "      <td>0.315136</td>\n",
              "      <td>0.306502</td>\n",
              "      <td>0.315136</td>\n",
              "      <td>0.017268</td>\n",
              "      <td>...</td>\n",
              "      <td>1</td>\n",
              "      <td>7</td>\n",
              "      <td>1</td>\n",
              "      <td>0</td>\n",
              "      <td>1</td>\n",
              "      <td>0</td>\n",
              "      <td>1</td>\n",
              "      <td>0</td>\n",
              "      <td>1</td>\n",
              "      <td>1</td>\n",
              "    </tr>\n",
              "  </tbody>\n",
              "</table>\n",
              "<p>5 rows × 38 columns</p>\n",
              "</div>\n",
              "      <button class=\"colab-df-convert\" onclick=\"convertToInteractive('df-a90f680e-1eb4-4001-9a40-115033045d1a')\"\n",
              "              title=\"Convert this dataframe to an interactive table.\"\n",
              "              style=\"display:none;\">\n",
              "        \n",
              "  <svg xmlns=\"http://www.w3.org/2000/svg\" height=\"24px\"viewBox=\"0 0 24 24\"\n",
              "       width=\"24px\">\n",
              "    <path d=\"M0 0h24v24H0V0z\" fill=\"none\"/>\n",
              "    <path d=\"M18.56 5.44l.94 2.06.94-2.06 2.06-.94-2.06-.94-.94-2.06-.94 2.06-2.06.94zm-11 1L8.5 8.5l.94-2.06 2.06-.94-2.06-.94L8.5 2.5l-.94 2.06-2.06.94zm10 10l.94 2.06.94-2.06 2.06-.94-2.06-.94-.94-2.06-.94 2.06-2.06.94z\"/><path d=\"M17.41 7.96l-1.37-1.37c-.4-.4-.92-.59-1.43-.59-.52 0-1.04.2-1.43.59L10.3 9.45l-7.72 7.72c-.78.78-.78 2.05 0 2.83L4 21.41c.39.39.9.59 1.41.59.51 0 1.02-.2 1.41-.59l7.78-7.78 2.81-2.81c.8-.78.8-2.07 0-2.86zM5.41 20L4 18.59l7.72-7.72 1.47 1.35L5.41 20z\"/>\n",
              "  </svg>\n",
              "      </button>\n",
              "      \n",
              "  <style>\n",
              "    .colab-df-container {\n",
              "      display:flex;\n",
              "      flex-wrap:wrap;\n",
              "      gap: 12px;\n",
              "    }\n",
              "\n",
              "    .colab-df-convert {\n",
              "      background-color: #E8F0FE;\n",
              "      border: none;\n",
              "      border-radius: 50%;\n",
              "      cursor: pointer;\n",
              "      display: none;\n",
              "      fill: #1967D2;\n",
              "      height: 32px;\n",
              "      padding: 0 0 0 0;\n",
              "      width: 32px;\n",
              "    }\n",
              "\n",
              "    .colab-df-convert:hover {\n",
              "      background-color: #E2EBFA;\n",
              "      box-shadow: 0px 1px 2px rgba(60, 64, 67, 0.3), 0px 1px 3px 1px rgba(60, 64, 67, 0.15);\n",
              "      fill: #174EA6;\n",
              "    }\n",
              "\n",
              "    [theme=dark] .colab-df-convert {\n",
              "      background-color: #3B4455;\n",
              "      fill: #D2E3FC;\n",
              "    }\n",
              "\n",
              "    [theme=dark] .colab-df-convert:hover {\n",
              "      background-color: #434B5C;\n",
              "      box-shadow: 0px 1px 3px 1px rgba(0, 0, 0, 0.15);\n",
              "      filter: drop-shadow(0px 1px 2px rgba(0, 0, 0, 0.3));\n",
              "      fill: #FFFFFF;\n",
              "    }\n",
              "  </style>\n",
              "\n",
              "      <script>\n",
              "        const buttonEl =\n",
              "          document.querySelector('#df-a90f680e-1eb4-4001-9a40-115033045d1a button.colab-df-convert');\n",
              "        buttonEl.style.display =\n",
              "          google.colab.kernel.accessAllowed ? 'block' : 'none';\n",
              "\n",
              "        async function convertToInteractive(key) {\n",
              "          const element = document.querySelector('#df-a90f680e-1eb4-4001-9a40-115033045d1a');\n",
              "          const dataTable =\n",
              "            await google.colab.kernel.invokeFunction('convertToInteractive',\n",
              "                                                     [key], {});\n",
              "          if (!dataTable) return;\n",
              "\n",
              "          const docLinkHtml = 'Like what you see? Visit the ' +\n",
              "            '<a target=\"_blank\" href=https://colab.research.google.com/notebooks/data_table.ipynb>data table notebook</a>'\n",
              "            + ' to learn more about interactive tables.';\n",
              "          element.innerHTML = '';\n",
              "          dataTable['output_type'] = 'display_data';\n",
              "          await google.colab.output.renderOutput(dataTable, element);\n",
              "          const docLink = document.createElement('div');\n",
              "          docLink.innerHTML = docLinkHtml;\n",
              "          element.appendChild(docLink);\n",
              "        }\n",
              "      </script>\n",
              "    </div>\n",
              "  </div>\n",
              "  "
            ]
          },
          "metadata": {},
          "execution_count": 28
        }
      ]
    },
    {
      "cell_type": "code",
      "source": [
        "label = labelencoder.fit_transform(label)\n",
        "len(label)"
      ],
      "metadata": {
        "colab": {
          "base_uri": "https://localhost:8080/"
        },
        "id": "mYzeeRixinIf",
        "outputId": "35129d78-e3fa-49ca-94c0-c1094721789d"
      },
      "execution_count": null,
      "outputs": [
        {
          "output_type": "execute_result",
          "data": {
            "text/plain": [
              "20000"
            ]
          },
          "metadata": {},
          "execution_count": 29
        }
      ]
    },
    {
      "cell_type": "code",
      "source": [
        "label = dataset.iloc[:,-1].values"
      ],
      "metadata": {
        "id": "FPYYKyeByNVV"
      },
      "execution_count": null,
      "outputs": []
    },
    {
      "cell_type": "code",
      "source": [
        "y = pd.DataFrame(label, columns=[\"Suggested Job Role\"])\n",
        "y"
      ],
      "metadata": {
        "colab": {
          "base_uri": "https://localhost:8080/",
          "height": 423
        },
        "id": "5zkHNfq-iqfP",
        "outputId": "6a76fe7c-c274-443f-acd6-0be40501b697"
      },
      "execution_count": null,
      "outputs": [
        {
          "output_type": "execute_result",
          "data": {
            "text/plain": [
              "                              Suggested Job Role\n",
              "0                             Database Developer\n",
              "1                           Portal Administrator\n",
              "2                           Portal Administrator\n",
              "3                 Systems Security Administrator\n",
              "4                       Business Systems Analyst\n",
              "...                                          ...\n",
              "19995                         Technical Engineer\n",
              "19996                         E-Commerce Analyst\n",
              "19997              Business Intelligence Analyst\n",
              "19998  Software Quality Assurance (QA) / Testing\n",
              "19999                     Applications Developer\n",
              "\n",
              "[20000 rows x 1 columns]"
            ],
            "text/html": [
              "\n",
              "  <div id=\"df-74826169-1cfc-48f7-90bb-c465b9825312\">\n",
              "    <div class=\"colab-df-container\">\n",
              "      <div>\n",
              "<style scoped>\n",
              "    .dataframe tbody tr th:only-of-type {\n",
              "        vertical-align: middle;\n",
              "    }\n",
              "\n",
              "    .dataframe tbody tr th {\n",
              "        vertical-align: top;\n",
              "    }\n",
              "\n",
              "    .dataframe thead th {\n",
              "        text-align: right;\n",
              "    }\n",
              "</style>\n",
              "<table border=\"1\" class=\"dataframe\">\n",
              "  <thead>\n",
              "    <tr style=\"text-align: right;\">\n",
              "      <th></th>\n",
              "      <th>Suggested Job Role</th>\n",
              "    </tr>\n",
              "  </thead>\n",
              "  <tbody>\n",
              "    <tr>\n",
              "      <th>0</th>\n",
              "      <td>Database Developer</td>\n",
              "    </tr>\n",
              "    <tr>\n",
              "      <th>1</th>\n",
              "      <td>Portal Administrator</td>\n",
              "    </tr>\n",
              "    <tr>\n",
              "      <th>2</th>\n",
              "      <td>Portal Administrator</td>\n",
              "    </tr>\n",
              "    <tr>\n",
              "      <th>3</th>\n",
              "      <td>Systems Security Administrator</td>\n",
              "    </tr>\n",
              "    <tr>\n",
              "      <th>4</th>\n",
              "      <td>Business Systems Analyst</td>\n",
              "    </tr>\n",
              "    <tr>\n",
              "      <th>...</th>\n",
              "      <td>...</td>\n",
              "    </tr>\n",
              "    <tr>\n",
              "      <th>19995</th>\n",
              "      <td>Technical Engineer</td>\n",
              "    </tr>\n",
              "    <tr>\n",
              "      <th>19996</th>\n",
              "      <td>E-Commerce Analyst</td>\n",
              "    </tr>\n",
              "    <tr>\n",
              "      <th>19997</th>\n",
              "      <td>Business Intelligence Analyst</td>\n",
              "    </tr>\n",
              "    <tr>\n",
              "      <th>19998</th>\n",
              "      <td>Software Quality Assurance (QA) / Testing</td>\n",
              "    </tr>\n",
              "    <tr>\n",
              "      <th>19999</th>\n",
              "      <td>Applications Developer</td>\n",
              "    </tr>\n",
              "  </tbody>\n",
              "</table>\n",
              "<p>20000 rows × 1 columns</p>\n",
              "</div>\n",
              "      <button class=\"colab-df-convert\" onclick=\"convertToInteractive('df-74826169-1cfc-48f7-90bb-c465b9825312')\"\n",
              "              title=\"Convert this dataframe to an interactive table.\"\n",
              "              style=\"display:none;\">\n",
              "        \n",
              "  <svg xmlns=\"http://www.w3.org/2000/svg\" height=\"24px\"viewBox=\"0 0 24 24\"\n",
              "       width=\"24px\">\n",
              "    <path d=\"M0 0h24v24H0V0z\" fill=\"none\"/>\n",
              "    <path d=\"M18.56 5.44l.94 2.06.94-2.06 2.06-.94-2.06-.94-.94-2.06-.94 2.06-2.06.94zm-11 1L8.5 8.5l.94-2.06 2.06-.94-2.06-.94L8.5 2.5l-.94 2.06-2.06.94zm10 10l.94 2.06.94-2.06 2.06-.94-2.06-.94-.94-2.06-.94 2.06-2.06.94z\"/><path d=\"M17.41 7.96l-1.37-1.37c-.4-.4-.92-.59-1.43-.59-.52 0-1.04.2-1.43.59L10.3 9.45l-7.72 7.72c-.78.78-.78 2.05 0 2.83L4 21.41c.39.39.9.59 1.41.59.51 0 1.02-.2 1.41-.59l7.78-7.78 2.81-2.81c.8-.78.8-2.07 0-2.86zM5.41 20L4 18.59l7.72-7.72 1.47 1.35L5.41 20z\"/>\n",
              "  </svg>\n",
              "      </button>\n",
              "      \n",
              "  <style>\n",
              "    .colab-df-container {\n",
              "      display:flex;\n",
              "      flex-wrap:wrap;\n",
              "      gap: 12px;\n",
              "    }\n",
              "\n",
              "    .colab-df-convert {\n",
              "      background-color: #E8F0FE;\n",
              "      border: none;\n",
              "      border-radius: 50%;\n",
              "      cursor: pointer;\n",
              "      display: none;\n",
              "      fill: #1967D2;\n",
              "      height: 32px;\n",
              "      padding: 0 0 0 0;\n",
              "      width: 32px;\n",
              "    }\n",
              "\n",
              "    .colab-df-convert:hover {\n",
              "      background-color: #E2EBFA;\n",
              "      box-shadow: 0px 1px 2px rgba(60, 64, 67, 0.3), 0px 1px 3px 1px rgba(60, 64, 67, 0.15);\n",
              "      fill: #174EA6;\n",
              "    }\n",
              "\n",
              "    [theme=dark] .colab-df-convert {\n",
              "      background-color: #3B4455;\n",
              "      fill: #D2E3FC;\n",
              "    }\n",
              "\n",
              "    [theme=dark] .colab-df-convert:hover {\n",
              "      background-color: #434B5C;\n",
              "      box-shadow: 0px 1px 3px 1px rgba(0, 0, 0, 0.15);\n",
              "      filter: drop-shadow(0px 1px 2px rgba(0, 0, 0, 0.3));\n",
              "      fill: #FFFFFF;\n",
              "    }\n",
              "  </style>\n",
              "\n",
              "      <script>\n",
              "        const buttonEl =\n",
              "          document.querySelector('#df-74826169-1cfc-48f7-90bb-c465b9825312 button.colab-df-convert');\n",
              "        buttonEl.style.display =\n",
              "          google.colab.kernel.accessAllowed ? 'block' : 'none';\n",
              "\n",
              "        async function convertToInteractive(key) {\n",
              "          const element = document.querySelector('#df-74826169-1cfc-48f7-90bb-c465b9825312');\n",
              "          const dataTable =\n",
              "            await google.colab.kernel.invokeFunction('convertToInteractive',\n",
              "                                                     [key], {});\n",
              "          if (!dataTable) return;\n",
              "\n",
              "          const docLinkHtml = 'Like what you see? Visit the ' +\n",
              "            '<a target=\"_blank\" href=https://colab.research.google.com/notebooks/data_table.ipynb>data table notebook</a>'\n",
              "            + ' to learn more about interactive tables.';\n",
              "          element.innerHTML = '';\n",
              "          dataTable['output_type'] = 'display_data';\n",
              "          await google.colab.output.renderOutput(dataTable, element);\n",
              "          const docLink = document.createElement('div');\n",
              "          docLink.innerHTML = docLinkHtml;\n",
              "          element.appendChild(docLink);\n",
              "        }\n",
              "      </script>\n",
              "    </div>\n",
              "  </div>\n",
              "  "
            ]
          },
          "metadata": {},
          "execution_count": 32
        }
      ]
    },
    {
      "cell_type": "markdown",
      "source": [
        "# 1. DECISION TREE CLASSIFIER"
      ],
      "metadata": {
        "id": "wA1xjSexm2IV"
      }
    },
    {
      "cell_type": "code",
      "source": [
        "from sklearn import tree\n",
        "from sklearn.model_selection import train_test_split\n",
        "from sklearn import preprocessing\n",
        "from sklearn.metrics import accuracy_score"
      ],
      "metadata": {
        "id": "274-j5vRm5D4"
      },
      "execution_count": null,
      "outputs": []
    },
    {
      "cell_type": "code",
      "source": [
        "x_train, x_test, y_train, y_test = train_test_split(x1, y, test_size=0.3, random_state=10)"
      ],
      "metadata": {
        "id": "3YdmIknxnAfo"
      },
      "execution_count": null,
      "outputs": []
    },
    {
      "cell_type": "code",
      "source": [
        "len(x_train)"
      ],
      "metadata": {
        "colab": {
          "base_uri": "https://localhost:8080/"
        },
        "id": "buD8Jd58nKJK",
        "outputId": "0c1577df-0a28-4a1d-cc97-ffb109b6bfd9"
      },
      "execution_count": null,
      "outputs": [
        {
          "output_type": "execute_result",
          "data": {
            "text/plain": [
              "14000"
            ]
          },
          "metadata": {},
          "execution_count": 35
        }
      ]
    },
    {
      "cell_type": "code",
      "source": [
        "len(x_test)"
      ],
      "metadata": {
        "colab": {
          "base_uri": "https://localhost:8080/"
        },
        "id": "H09qkdsznPIl",
        "outputId": "a089a82e-932b-4fc8-982a-cee5755928a2"
      },
      "execution_count": null,
      "outputs": [
        {
          "output_type": "execute_result",
          "data": {
            "text/plain": [
              "6000"
            ]
          },
          "metadata": {},
          "execution_count": 36
        }
      ]
    },
    {
      "cell_type": "code",
      "source": [
        "from sklearn.metrics import confusion_matrix, accuracy_score"
      ],
      "metadata": {
        "id": "Eamyk18qncv0"
      },
      "execution_count": null,
      "outputs": []
    },
    {
      "cell_type": "code",
      "source": [
        "classifier = tree.DecisionTreeClassifier()\n",
        "classifier = classifier.fit(x_train, y_train)"
      ],
      "metadata": {
        "id": "3M3T54N4niu5"
      },
      "execution_count": null,
      "outputs": []
    },
    {
      "cell_type": "code",
      "source": [
        "y_pred = classifier.predict(x_test)"
      ],
      "metadata": {
        "id": "vL4rX62vnuuP"
      },
      "execution_count": null,
      "outputs": []
    },
    {
      "cell_type": "code",
      "source": [
        "y_pred"
      ],
      "metadata": {
        "colab": {
          "base_uri": "https://localhost:8080/"
        },
        "id": "IeQJ1o8dn5-Q",
        "outputId": "e43afbd7-585c-411e-ff79-142a14a4908a"
      },
      "execution_count": null,
      "outputs": [
        {
          "output_type": "execute_result",
          "data": {
            "text/plain": [
              "array(['Database Administrator', 'Systems Security Administrator',\n",
              "       'Technical Services/Help Desk/Tech Support', ...,\n",
              "       'Software Systems Engineer', 'Database Developer',\n",
              "       'E-Commerce Analyst'], dtype=object)"
            ]
          },
          "metadata": {},
          "execution_count": 40
        }
      ]
    },
    {
      "cell_type": "code",
      "source": [
        "cm = confusion_matrix(y_test, y_pred)\n",
        "accuracy = accuracy_score(y_test, y_pred)"
      ],
      "metadata": {
        "id": "mnS5EnOtn9Hb"
      },
      "execution_count": null,
      "outputs": []
    },
    {
      "cell_type": "code",
      "source": [
        "print(\"confusion matrix=\", cm)\n",
        "print()\n",
        "print(\"accuracy=\", accuracy*100)"
      ],
      "metadata": {
        "colab": {
          "base_uri": "https://localhost:8080/"
        },
        "id": "gd035mBcoFAd",
        "outputId": "75a2453b-bf58-4293-d471-1f424e3bc1cc"
      },
      "execution_count": null,
      "outputs": [
        {
          "output_type": "stream",
          "name": "stdout",
          "text": [
            "confusion matrix= [[5 6 8 ... 5 5 1]\n",
            " [4 4 6 ... 3 5 4]\n",
            " [6 3 7 ... 7 3 5]\n",
            " ...\n",
            " [2 3 7 ... 8 5 4]\n",
            " [6 4 8 ... 5 2 4]\n",
            " [3 5 2 ... 0 3 9]]\n",
            "\n",
            "accuracy= 3.2\n"
          ]
        }
      ]
    },
    {
      "cell_type": "markdown",
      "source": [
        "# 1. 1. Decision Tree with entropy"
      ],
      "metadata": {
        "id": "87HOkPBqoWyL"
      }
    },
    {
      "cell_type": "code",
      "source": [
        "entropy_classifier = tree.DecisionTreeClassifier(criterion = \"entropy\", random_state = 10)\n",
        "entropy_classifier.fit(x_train, y_train)"
      ],
      "metadata": {
        "colab": {
          "base_uri": "https://localhost:8080/"
        },
        "id": "Cr0oHzCFoTN4",
        "outputId": "0bbbac06-4fdd-457b-ca43-1eac3f7e80bf"
      },
      "execution_count": null,
      "outputs": [
        {
          "output_type": "execute_result",
          "data": {
            "text/plain": [
              "DecisionTreeClassifier(criterion='entropy', random_state=10)"
            ]
          },
          "metadata": {},
          "execution_count": 43
        }
      ]
    },
    {
      "cell_type": "code",
      "source": [
        "ent_y_pred = entropy_classifier.predict(x_test)"
      ],
      "metadata": {
        "id": "0OnFVZGIo3OQ"
      },
      "execution_count": null,
      "outputs": []
    },
    {
      "cell_type": "code",
      "source": [
        "cm_entropy = confusion_matrix(y_test, ent_y_pred)"
      ],
      "metadata": {
        "id": "rvtG4C45o8EB"
      },
      "execution_count": null,
      "outputs": []
    },
    {
      "cell_type": "code",
      "source": [
        "ent_acc = accuracy_score(y_test, ent_y_pred)"
      ],
      "metadata": {
        "id": "q-kYZ16ApFuT"
      },
      "execution_count": null,
      "outputs": []
    },
    {
      "cell_type": "code",
      "source": [
        "print(\"confusion matrix=\", cm_entropy)\n",
        "print()\n",
        "print(\"accuracy=\",ent_acc*100)"
      ],
      "metadata": {
        "colab": {
          "base_uri": "https://localhost:8080/"
        },
        "id": "YZBN1nB_pKqp",
        "outputId": "e4eae158-64db-4dab-df5f-4001b06bc895"
      },
      "execution_count": null,
      "outputs": [
        {
          "output_type": "stream",
          "name": "stdout",
          "text": [
            "confusion matrix= [[ 3  3  7 ...  6  7  5]\n",
            " [ 4  4  4 ...  2  8  5]\n",
            " [10  3  2 ...  9  6  2]\n",
            " ...\n",
            " [ 3  3 10 ...  7  2 10]\n",
            " [ 9  5  7 ...  7  7  2]\n",
            " [ 5  6  7 ...  2  2  4]]\n",
            "\n",
            "accuracy= 3.1\n"
          ]
        }
      ]
    },
    {
      "cell_type": "markdown",
      "source": [
        "# 2. SVM classifier"
      ],
      "metadata": {
        "id": "KDYJnJ7zp_gk"
      }
    },
    {
      "cell_type": "code",
      "source": [
        "from sklearn import svm"
      ],
      "metadata": {
        "id": "OwFnx78xp-I5"
      },
      "execution_count": null,
      "outputs": []
    },
    {
      "cell_type": "code",
      "source": [
        "svm_clf = svm.SVC()\n",
        "svm_clf.fit(x_train, y_train)"
      ],
      "metadata": {
        "colab": {
          "base_uri": "https://localhost:8080/"
        },
        "id": "Cgmrogc4qCFn",
        "outputId": "b109bb92-5165-4c46-dba6-576fde162000"
      },
      "execution_count": null,
      "outputs": [
        {
          "output_type": "stream",
          "name": "stderr",
          "text": [
            "/usr/local/lib/python3.7/dist-packages/sklearn/utils/validation.py:993: DataConversionWarning: A column-vector y was passed when a 1d array was expected. Please change the shape of y to (n_samples, ), for example using ravel().\n",
            "  y = column_or_1d(y, warn=True)\n"
          ]
        },
        {
          "output_type": "execute_result",
          "data": {
            "text/plain": [
              "SVC()"
            ]
          },
          "metadata": {},
          "execution_count": 49
        }
      ]
    },
    {
      "cell_type": "code",
      "source": [
        "svm_y_pred = svm_clf.predict(x_test)"
      ],
      "metadata": {
        "id": "WzDJp3GRqURt"
      },
      "execution_count": null,
      "outputs": []
    },
    {
      "cell_type": "code",
      "source": [
        "cm_svm = confusion_matrix(y_test, svm_y_pred)\n",
        "svm_acc = accuracy_score(y_test, svm_y_pred)"
      ],
      "metadata": {
        "id": "s8KxvxygqXOx"
      },
      "execution_count": null,
      "outputs": []
    },
    {
      "cell_type": "code",
      "source": [
        "print(\"confusion matrics=\",cm_svm)\n",
        "print(\"  \")\n",
        "print(\"accuracy=\",svm_acc*100)"
      ],
      "metadata": {
        "colab": {
          "base_uri": "https://localhost:8080/"
        },
        "id": "69NmwAP5qi9b",
        "outputId": "c56d4ddd-9748-43a1-accb-bcd4f72bdbd9"
      },
      "execution_count": null,
      "outputs": [
        {
          "output_type": "stream",
          "name": "stdout",
          "text": [
            "confusion matrics= [[0 0 0 ... 0 0 0]\n",
            " [0 0 0 ... 0 0 0]\n",
            " [0 0 0 ... 0 0 0]\n",
            " ...\n",
            " [0 0 0 ... 0 0 0]\n",
            " [0 0 0 ... 0 0 0]\n",
            " [0 0 0 ... 0 0 0]]\n",
            "  \n",
            "accuracy= 5.75\n"
          ]
        }
      ]
    },
    {
      "cell_type": "markdown",
      "source": [
        "# 3. XGBOOST"
      ],
      "metadata": {
        "id": "oKvh3wXFq5EQ"
      }
    },
    {
      "cell_type": "code",
      "source": [
        "from xgboost import XGBClassifier"
      ],
      "metadata": {
        "id": "nd2lVlm_q3Ua"
      },
      "execution_count": null,
      "outputs": []
    },
    {
      "cell_type": "code",
      "source": [
        "xg_xtrain = pd.to_numeric(x_train.values.flatten())"
      ],
      "metadata": {
        "id": "1S9mUbPkrLIm"
      },
      "execution_count": null,
      "outputs": []
    },
    {
      "cell_type": "code",
      "source": [
        "xg_xtrain = xg_xtrain.reshape((14000,38))"
      ],
      "metadata": {
        "id": "SpR99PB9r_xz"
      },
      "execution_count": null,
      "outputs": []
    },
    {
      "cell_type": "code",
      "source": [
        "model = XGBClassifier()\n",
        "model.fit(xg_xtrain, y_train)"
      ],
      "metadata": {
        "colab": {
          "base_uri": "https://localhost:8080/"
        },
        "id": "rHHZYXn4q9hW",
        "outputId": "8bc7f383-ac8f-4b16-cdf3-5b8311483bf6"
      },
      "execution_count": null,
      "outputs": [
        {
          "output_type": "stream",
          "name": "stderr",
          "text": [
            "/usr/local/lib/python3.7/dist-packages/sklearn/preprocessing/_label.py:98: DataConversionWarning: A column-vector y was passed when a 1d array was expected. Please change the shape of y to (n_samples, ), for example using ravel().\n",
            "  y = column_or_1d(y, warn=True)\n",
            "/usr/local/lib/python3.7/dist-packages/sklearn/preprocessing/_label.py:133: DataConversionWarning: A column-vector y was passed when a 1d array was expected. Please change the shape of y to (n_samples, ), for example using ravel().\n",
            "  y = column_or_1d(y, warn=True)\n"
          ]
        },
        {
          "output_type": "execute_result",
          "data": {
            "text/plain": [
              "XGBClassifier(objective='multi:softprob')"
            ]
          },
          "metadata": {},
          "execution_count": 56
        }
      ]
    },
    {
      "cell_type": "code",
      "source": [
        "x_test.shape"
      ],
      "metadata": {
        "colab": {
          "base_uri": "https://localhost:8080/"
        },
        "id": "DI2hqK0gsiUJ",
        "outputId": "8b8bcf2c-c6be-49bb-abf5-8cc5805a34b8"
      },
      "execution_count": null,
      "outputs": [
        {
          "output_type": "execute_result",
          "data": {
            "text/plain": [
              "(6000, 38)"
            ]
          },
          "metadata": {},
          "execution_count": 57
        }
      ]
    },
    {
      "cell_type": "code",
      "source": [
        "xg_xtest = pd.to_numeric(x_test.values.flatten())"
      ],
      "metadata": {
        "id": "pPyzUouPsbEn"
      },
      "execution_count": null,
      "outputs": []
    },
    {
      "cell_type": "code",
      "source": [
        "xg_xtest = xg_xtest.reshape((6000,38))"
      ],
      "metadata": {
        "id": "tAgdLevusfLL"
      },
      "execution_count": null,
      "outputs": []
    },
    {
      "cell_type": "code",
      "source": [
        "xgb_y_pred = model.predict(xg_xtest)"
      ],
      "metadata": {
        "id": "QGH2ScBfsP-Y"
      },
      "execution_count": null,
      "outputs": []
    },
    {
      "cell_type": "code",
      "source": [
        "xgb_cm = confusion_matrix(y_test, xgb_y_pred)\n",
        "xgb_acc = accuracy_score(y_test, xgb_y_pred)"
      ],
      "metadata": {
        "id": "EtwlgyiZszmm"
      },
      "execution_count": null,
      "outputs": []
    },
    {
      "cell_type": "code",
      "source": [
        "print(\"confusion matrix=\", xgb_cm)\n",
        "print()\n",
        "print(\"accuracy=\", xgb_acc*100)"
      ],
      "metadata": {
        "colab": {
          "base_uri": "https://localhost:8080/"
        },
        "id": "1BsTg_dws6uE",
        "outputId": "d9bd05a3-dcfb-442c-a1d6-71276c538718"
      },
      "execution_count": null,
      "outputs": [
        {
          "output_type": "stream",
          "name": "stdout",
          "text": [
            "confusion matrix= [[3 3 3 ... 7 2 7]\n",
            " [1 0 2 ... 3 6 0]\n",
            " [0 4 0 ... 5 3 1]\n",
            " ...\n",
            " [3 0 3 ... 7 5 0]\n",
            " [2 1 4 ... 4 4 1]\n",
            " [0 2 4 ... 3 2 0]]\n",
            "\n",
            "accuracy= 4.416666666666667\n"
          ]
        }
      ]
    },
    {
      "cell_type": "code",
      "source": [
        "xgb_y_pred[0], y_test.to_numpy()[2][0]"
      ],
      "metadata": {
        "colab": {
          "base_uri": "https://localhost:8080/"
        },
        "id": "Du06C1sEupsI",
        "outputId": "e8b8665d-7884-4887-ad30-77a2811c4acc"
      },
      "execution_count": null,
      "outputs": [
        {
          "output_type": "execute_result",
          "data": {
            "text/plain": [
              "('Network Security Administrator', 'E-Commerce Analyst')"
            ]
          },
          "metadata": {},
          "execution_count": 84
        }
      ]
    },
    {
      "cell_type": "code",
      "source": [
        "type(y_test)"
      ],
      "metadata": {
        "colab": {
          "base_uri": "https://localhost:8080/"
        },
        "id": "AcN5q2Jz0fW3",
        "outputId": "f0b6dab4-484f-42c9-e0c6-6d3b9754d98f"
      },
      "execution_count": null,
      "outputs": [
        {
          "output_type": "execute_result",
          "data": {
            "text/plain": [
              "pandas.core.frame.DataFrame"
            ]
          },
          "metadata": {},
          "execution_count": 79
        }
      ]
    },
    {
      "cell_type": "code",
      "source": [
        "len(xgb_y_pred), len(y_test)"
      ],
      "metadata": {
        "colab": {
          "base_uri": "https://localhost:8080/"
        },
        "id": "H1fRmNB5zV1_",
        "outputId": "eb4aef34-270c-4485-cb63-551dc11c15fa"
      },
      "execution_count": null,
      "outputs": [
        {
          "output_type": "execute_result",
          "data": {
            "text/plain": [
              "(6000, 6000)"
            ]
          },
          "metadata": {},
          "execution_count": 72
        }
      ]
    },
    {
      "cell_type": "code",
      "source": [
        "true_results = []\n",
        "for i in range(len(y_test)):\n",
        "  if xgb_y_pred[i] == y_test.values[i][0]:\n",
        "    true_results.append(y_test.iloc[[i]].index[0])"
      ],
      "metadata": {
        "id": "LCR5lTmtzmaK"
      },
      "execution_count": null,
      "outputs": []
    },
    {
      "cell_type": "code",
      "source": [
        "len(true_results)"
      ],
      "metadata": {
        "colab": {
          "base_uri": "https://localhost:8080/"
        },
        "id": "hLQPLQ4j3eJt",
        "outputId": "1e4d4d39-ca84-422f-d624-d6dcb7a0ff0d"
      },
      "execution_count": null,
      "outputs": [
        {
          "output_type": "execute_result",
          "data": {
            "text/plain": [
              "265"
            ]
          },
          "metadata": {},
          "execution_count": 99
        }
      ]
    },
    {
      "cell_type": "markdown",
      "source": [
        "# 4. K Nearest Neighbours"
      ],
      "metadata": {
        "id": "eadFgU3k52Dr"
      }
    },
    {
      "cell_type": "code",
      "source": [
        "from sklearn.neighbors import KNeighborsClassifier"
      ],
      "metadata": {
        "id": "0ZsY0tV350HP"
      },
      "execution_count": null,
      "outputs": []
    },
    {
      "cell_type": "code",
      "source": [
        "knn_clf = KNeighborsClassifier()\n",
        "knn_clf.fit(x_train, y_train)"
      ],
      "metadata": {
        "colab": {
          "base_uri": "https://localhost:8080/"
        },
        "id": "P3-RmqZ753vK",
        "outputId": "cf270011-9deb-4723-946c-7bf7dcdbd1f7"
      },
      "execution_count": null,
      "outputs": [
        {
          "output_type": "stream",
          "name": "stderr",
          "text": [
            "/usr/local/lib/python3.7/dist-packages/sklearn/neighbors/_classification.py:198: DataConversionWarning: A column-vector y was passed when a 1d array was expected. Please change the shape of y to (n_samples,), for example using ravel().\n",
            "  return self._fit(X, y)\n"
          ]
        },
        {
          "output_type": "execute_result",
          "data": {
            "text/plain": [
              "KNeighborsClassifier()"
            ]
          },
          "metadata": {},
          "execution_count": 113
        }
      ]
    },
    {
      "cell_type": "code",
      "source": [
        "knn_y_pred = knn_clf.predict(x_test)"
      ],
      "metadata": {
        "id": "1qSAr0Ow6DGj"
      },
      "execution_count": null,
      "outputs": []
    },
    {
      "cell_type": "code",
      "source": [
        "knn_cm = confusion_matrix(y_test, knn_y_pred)\n",
        "knn_acc = accuracy_score(y_test, knn_y_pred)"
      ],
      "metadata": {
        "id": "X5ycLai86MXt"
      },
      "execution_count": null,
      "outputs": []
    },
    {
      "cell_type": "code",
      "source": [
        "print(\"confusion matrix=\", knn_cm)\n",
        "print()\n",
        "print(\"accuracy=\", knn_acc*100)"
      ],
      "metadata": {
        "colab": {
          "base_uri": "https://localhost:8080/"
        },
        "id": "OD8fR-PZ6SL9",
        "outputId": "e8c92aa6-de8f-4e33-a291-9237c5e40fa3"
      },
      "execution_count": null,
      "outputs": [
        {
          "output_type": "stream",
          "name": "stdout",
          "text": [
            "confusion matrix= [[25 21  9 ...  1  3  2]\n",
            " [16 13 17 ...  0  2  2]\n",
            " [19 15 19 ...  3  1  2]\n",
            " ...\n",
            " [16 15 11 ...  2  1  2]\n",
            " [10 21 20 ...  2  0  1]\n",
            " [15 26 19 ...  1  1  0]]\n",
            "\n",
            "accuracy= 3.2333333333333334\n"
          ]
        }
      ]
    },
    {
      "cell_type": "markdown",
      "source": [
        "#5. Random Forest Classifier"
      ],
      "metadata": {
        "id": "_DFmBqI46qJJ"
      }
    },
    {
      "cell_type": "code",
      "source": [
        "from sklearn.ensemble import RandomForestClassifier\n",
        "rfc_classifier = RandomForestClassifier(n_estimators = 10, criterion = 'entropy', random_state = 0)\n",
        "rfc_classifier.fit(x_train, y_train)"
      ],
      "metadata": {
        "colab": {
          "base_uri": "https://localhost:8080/"
        },
        "id": "0QIn9Jzp6skm",
        "outputId": "ab9b73ce-7414-4c80-f32e-a81e8ae24e75"
      },
      "execution_count": null,
      "outputs": [
        {
          "output_type": "stream",
          "name": "stderr",
          "text": [
            "/usr/local/lib/python3.7/dist-packages/ipykernel_launcher.py:3: DataConversionWarning: A column-vector y was passed when a 1d array was expected. Please change the shape of y to (n_samples,), for example using ravel().\n",
            "  This is separate from the ipykernel package so we can avoid doing imports until\n"
          ]
        },
        {
          "output_type": "execute_result",
          "data": {
            "text/plain": [
              "RandomForestClassifier(criterion='entropy', n_estimators=10, random_state=0)"
            ]
          },
          "metadata": {},
          "execution_count": 117
        }
      ]
    },
    {
      "cell_type": "code",
      "source": [
        "rfc_y_pred = rfc_classifier.predict(x_test)"
      ],
      "metadata": {
        "id": "XihEXW8P61xa"
      },
      "execution_count": null,
      "outputs": []
    },
    {
      "cell_type": "code",
      "source": [
        "rfc_cm = confusion_matrix(y_test, rfc_y_pred)\n",
        "rfc_acc = accuracy_score(y_test, rfc_y_pred)"
      ],
      "metadata": {
        "id": "oyxOUcJ47IUE"
      },
      "execution_count": null,
      "outputs": []
    },
    {
      "cell_type": "code",
      "source": [
        "print(\"confusion matrix=\", rfc_cm)\n",
        "print()\n",
        "print(\"accuracy=\", rfc_acc*100)"
      ],
      "metadata": {
        "colab": {
          "base_uri": "https://localhost:8080/"
        },
        "id": "QGe7zuTC7NpJ",
        "outputId": "317d295f-3e23-4f68-a49b-df0f12618c84"
      },
      "execution_count": null,
      "outputs": [
        {
          "output_type": "stream",
          "name": "stdout",
          "text": [
            "confusion matrix= [[18 10  9 ...  2  2  1]\n",
            " [17  9  7 ...  1  1  1]\n",
            " [16  5  9 ...  2  3  3]\n",
            " ...\n",
            " [10 12  8 ...  2  1  5]\n",
            " [13 16 12 ...  2  5  3]\n",
            " [14  8 20 ...  2  2  6]]\n",
            "\n",
            "accuracy= 2.966666666666667\n"
          ]
        }
      ]
    },
    {
      "cell_type": "markdown",
      "source": [
        "# Dump Models"
      ],
      "metadata": {
        "id": "ZeOfXPe28Y3J"
      }
    },
    {
      "cell_type": "code",
      "source": [
        "models = [classifier, entropy_classifier, svm_clf, model, knn_clf, rfc_classifier]\n",
        "names = [\"dtc\", \"ent_dtc\", \"svm\", \"xgboost\", \"knn\", \"rfc\"]\n",
        "import pickle\n",
        "for i in range(len(models)):\n",
        "  print(f\"Dumping {names[i]} model\")\n",
        "  pickle.dump(models[i], open(names[i] + \".pkl\", \"wb\"))"
      ],
      "metadata": {
        "colab": {
          "base_uri": "https://localhost:8080/"
        },
        "id": "L_0-LxED8YWp",
        "outputId": "ee2504de-ccfe-4a3c-e518-59e7c64249e6"
      },
      "execution_count": null,
      "outputs": [
        {
          "output_type": "stream",
          "name": "stdout",
          "text": [
            "Dumping dtc model\n",
            "Dumping ent_dtc model\n",
            "Dumping svm model\n",
            "Dumping xgboost model\n",
            "Dumping knn model\n",
            "Dumping rfc model\n"
          ]
        }
      ]
    },
    {
      "cell_type": "code",
      "source": [
        "subjects = dataset[\"Interested subjects\"].unique()"
      ],
      "metadata": {
        "id": "2n_yzqUT9rNK"
      },
      "execution_count": null,
      "outputs": []
    },
    {
      "cell_type": "code",
      "source": [
        "subjects"
      ],
      "metadata": {
        "colab": {
          "base_uri": "https://localhost:8080/"
        },
        "id": "JYUMX91eALLk",
        "outputId": "e433b26e-334c-4664-88b8-311669945cbd"
      },
      "execution_count": null,
      "outputs": [
        {
          "output_type": "execute_result",
          "data": {
            "text/plain": [
              "array(['cloud computing', 'networks', 'hacking', 'Computer Architecture',\n",
              "       'programming', 'parallel computing', 'IOT', 'data engineering',\n",
              "       'Software Engineering', 'Management'], dtype=object)"
            ]
          },
          "metadata": {},
          "execution_count": 133
        }
      ]
    }
  ]
}